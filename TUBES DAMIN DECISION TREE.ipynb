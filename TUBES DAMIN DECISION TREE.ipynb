{
 "cells": [
  {
   "cell_type": "markdown",
   "metadata": {},
   "source": [
    "# TUBES DAMIN KNN 2020"
   ]
  },
  {
   "cell_type": "markdown",
   "metadata": {},
   "source": [
    "Importing the necessary libraries"
   ]
  },
  {
   "cell_type": "code",
   "execution_count": 1,
   "metadata": {},
   "outputs": [],
   "source": [
    "# Linear algebra\n",
    "import numpy as np \n",
    "\n",
    "# Data processing\n",
    "import pandas as pd \n",
    "\n",
    "# Visualizations\n",
    "import matplotlib.pyplot as plt\n",
    "from matplotlib import rcParams\n",
    "import seaborn as sns\n",
    "%matplotlib inline"
   ]
  },
  {
   "cell_type": "markdown",
   "metadata": {},
   "source": [
    "Load Data dan Menampilkan Data"
   ]
  },
  {
   "cell_type": "code",
   "execution_count": 2,
   "metadata": {},
   "outputs": [
    {
     "data": {
      "text/html": [
       "<div>\n",
       "<style scoped>\n",
       "    .dataframe tbody tr th:only-of-type {\n",
       "        vertical-align: middle;\n",
       "    }\n",
       "\n",
       "    .dataframe tbody tr th {\n",
       "        vertical-align: top;\n",
       "    }\n",
       "\n",
       "    .dataframe thead th {\n",
       "        text-align: right;\n",
       "    }\n",
       "</style>\n",
       "<table border=\"1\" class=\"dataframe\">\n",
       "  <thead>\n",
       "    <tr style=\"text-align: right;\">\n",
       "      <th></th>\n",
       "      <th>trustLevel</th>\n",
       "      <th>totalScanTimeInSeconds</th>\n",
       "      <th>grandTotal</th>\n",
       "      <th>lineItemVoids</th>\n",
       "      <th>scansWithoutRegistration</th>\n",
       "      <th>quantityModifications</th>\n",
       "      <th>scannedLineItemsPerSecond</th>\n",
       "      <th>valuePerSecond</th>\n",
       "      <th>lineItemVoidsPerPosition</th>\n",
       "      <th>fraud</th>\n",
       "    </tr>\n",
       "  </thead>\n",
       "  <tbody>\n",
       "    <tr>\n",
       "      <th>0</th>\n",
       "      <td>5</td>\n",
       "      <td>1054</td>\n",
       "      <td>54.70</td>\n",
       "      <td>7</td>\n",
       "      <td>0</td>\n",
       "      <td>3</td>\n",
       "      <td>0.027514</td>\n",
       "      <td>0.051898</td>\n",
       "      <td>0.241379</td>\n",
       "      <td>0</td>\n",
       "    </tr>\n",
       "    <tr>\n",
       "      <th>1</th>\n",
       "      <td>3</td>\n",
       "      <td>108</td>\n",
       "      <td>27.36</td>\n",
       "      <td>5</td>\n",
       "      <td>2</td>\n",
       "      <td>4</td>\n",
       "      <td>0.129630</td>\n",
       "      <td>0.253333</td>\n",
       "      <td>0.357143</td>\n",
       "      <td>0</td>\n",
       "    </tr>\n",
       "    <tr>\n",
       "      <th>2</th>\n",
       "      <td>3</td>\n",
       "      <td>1516</td>\n",
       "      <td>62.16</td>\n",
       "      <td>3</td>\n",
       "      <td>10</td>\n",
       "      <td>5</td>\n",
       "      <td>0.008575</td>\n",
       "      <td>0.041003</td>\n",
       "      <td>0.230769</td>\n",
       "      <td>0</td>\n",
       "    </tr>\n",
       "    <tr>\n",
       "      <th>3</th>\n",
       "      <td>6</td>\n",
       "      <td>1791</td>\n",
       "      <td>92.31</td>\n",
       "      <td>8</td>\n",
       "      <td>4</td>\n",
       "      <td>4</td>\n",
       "      <td>0.016192</td>\n",
       "      <td>0.051541</td>\n",
       "      <td>0.275862</td>\n",
       "      <td>0</td>\n",
       "    </tr>\n",
       "    <tr>\n",
       "      <th>4</th>\n",
       "      <td>5</td>\n",
       "      <td>430</td>\n",
       "      <td>81.53</td>\n",
       "      <td>3</td>\n",
       "      <td>7</td>\n",
       "      <td>2</td>\n",
       "      <td>0.062791</td>\n",
       "      <td>0.189605</td>\n",
       "      <td>0.111111</td>\n",
       "      <td>0</td>\n",
       "    </tr>\n",
       "    <tr>\n",
       "      <th>...</th>\n",
       "      <td>...</td>\n",
       "      <td>...</td>\n",
       "      <td>...</td>\n",
       "      <td>...</td>\n",
       "      <td>...</td>\n",
       "      <td>...</td>\n",
       "      <td>...</td>\n",
       "      <td>...</td>\n",
       "      <td>...</td>\n",
       "      <td>...</td>\n",
       "    </tr>\n",
       "    <tr>\n",
       "      <th>1874</th>\n",
       "      <td>1</td>\n",
       "      <td>321</td>\n",
       "      <td>76.03</td>\n",
       "      <td>8</td>\n",
       "      <td>7</td>\n",
       "      <td>2</td>\n",
       "      <td>0.071651</td>\n",
       "      <td>0.236854</td>\n",
       "      <td>0.347826</td>\n",
       "      <td>0</td>\n",
       "    </tr>\n",
       "    <tr>\n",
       "      <th>1875</th>\n",
       "      <td>1</td>\n",
       "      <td>397</td>\n",
       "      <td>41.89</td>\n",
       "      <td>5</td>\n",
       "      <td>5</td>\n",
       "      <td>0</td>\n",
       "      <td>0.065491</td>\n",
       "      <td>0.105516</td>\n",
       "      <td>0.192308</td>\n",
       "      <td>1</td>\n",
       "    </tr>\n",
       "    <tr>\n",
       "      <th>1876</th>\n",
       "      <td>4</td>\n",
       "      <td>316</td>\n",
       "      <td>41.83</td>\n",
       "      <td>5</td>\n",
       "      <td>8</td>\n",
       "      <td>1</td>\n",
       "      <td>0.094937</td>\n",
       "      <td>0.132373</td>\n",
       "      <td>0.166667</td>\n",
       "      <td>0</td>\n",
       "    </tr>\n",
       "    <tr>\n",
       "      <th>1877</th>\n",
       "      <td>2</td>\n",
       "      <td>685</td>\n",
       "      <td>62.68</td>\n",
       "      <td>1</td>\n",
       "      <td>6</td>\n",
       "      <td>2</td>\n",
       "      <td>0.035036</td>\n",
       "      <td>0.091504</td>\n",
       "      <td>0.041667</td>\n",
       "      <td>0</td>\n",
       "    </tr>\n",
       "    <tr>\n",
       "      <th>1878</th>\n",
       "      <td>4</td>\n",
       "      <td>1140</td>\n",
       "      <td>38.03</td>\n",
       "      <td>2</td>\n",
       "      <td>2</td>\n",
       "      <td>3</td>\n",
       "      <td>0.016667</td>\n",
       "      <td>0.033360</td>\n",
       "      <td>0.105263</td>\n",
       "      <td>0</td>\n",
       "    </tr>\n",
       "  </tbody>\n",
       "</table>\n",
       "<p>1879 rows × 10 columns</p>\n",
       "</div>"
      ],
      "text/plain": [
       "      trustLevel  totalScanTimeInSeconds  grandTotal  lineItemVoids  \\\n",
       "0              5                    1054       54.70              7   \n",
       "1              3                     108       27.36              5   \n",
       "2              3                    1516       62.16              3   \n",
       "3              6                    1791       92.31              8   \n",
       "4              5                     430       81.53              3   \n",
       "...          ...                     ...         ...            ...   \n",
       "1874           1                     321       76.03              8   \n",
       "1875           1                     397       41.89              5   \n",
       "1876           4                     316       41.83              5   \n",
       "1877           2                     685       62.68              1   \n",
       "1878           4                    1140       38.03              2   \n",
       "\n",
       "      scansWithoutRegistration  quantityModifications  \\\n",
       "0                            0                      3   \n",
       "1                            2                      4   \n",
       "2                           10                      5   \n",
       "3                            4                      4   \n",
       "4                            7                      2   \n",
       "...                        ...                    ...   \n",
       "1874                         7                      2   \n",
       "1875                         5                      0   \n",
       "1876                         8                      1   \n",
       "1877                         6                      2   \n",
       "1878                         2                      3   \n",
       "\n",
       "      scannedLineItemsPerSecond  valuePerSecond  lineItemVoidsPerPosition  \\\n",
       "0                      0.027514        0.051898                  0.241379   \n",
       "1                      0.129630        0.253333                  0.357143   \n",
       "2                      0.008575        0.041003                  0.230769   \n",
       "3                      0.016192        0.051541                  0.275862   \n",
       "4                      0.062791        0.189605                  0.111111   \n",
       "...                         ...             ...                       ...   \n",
       "1874                   0.071651        0.236854                  0.347826   \n",
       "1875                   0.065491        0.105516                  0.192308   \n",
       "1876                   0.094937        0.132373                  0.166667   \n",
       "1877                   0.035036        0.091504                  0.041667   \n",
       "1878                   0.016667        0.033360                  0.105263   \n",
       "\n",
       "      fraud  \n",
       "0         0  \n",
       "1         0  \n",
       "2         0  \n",
       "3         0  \n",
       "4         0  \n",
       "...     ...  \n",
       "1874      0  \n",
       "1875      1  \n",
       "1876      0  \n",
       "1877      0  \n",
       "1878      0  \n",
       "\n",
       "[1879 rows x 10 columns]"
      ]
     },
     "execution_count": 2,
     "metadata": {},
     "output_type": "execute_result"
    }
   ],
   "source": [
    "data_train= pd.read_csv('train.csv')\n",
    "data_train"
   ]
  },
  {
   "cell_type": "code",
   "execution_count": 3,
   "metadata": {},
   "outputs": [
    {
     "data": {
      "text/plain": [
       "(1879, 10)"
      ]
     },
     "execution_count": 3,
     "metadata": {},
     "output_type": "execute_result"
    }
   ],
   "source": [
    "# Melihat jumlah baris dan kolom\n",
    "data_train.shape"
   ]
  },
  {
   "cell_type": "code",
   "execution_count": 4,
   "metadata": {},
   "outputs": [
    {
     "data": {
      "text/plain": [
       "trustLevel                     int64\n",
       "totalScanTimeInSeconds         int64\n",
       "grandTotal                   float64\n",
       "lineItemVoids                  int64\n",
       "scansWithoutRegistration       int64\n",
       "quantityModifications          int64\n",
       "scannedLineItemsPerSecond    float64\n",
       "valuePerSecond               float64\n",
       "lineItemVoidsPerPosition     float64\n",
       "fraud                          int64\n",
       "dtype: object"
      ]
     },
     "execution_count": 4,
     "metadata": {},
     "output_type": "execute_result"
    }
   ],
   "source": [
    "# Tipe data setiap kolom\n",
    "data_train.dtypes"
   ]
  },
  {
   "cell_type": "code",
   "execution_count": 5,
   "metadata": {},
   "outputs": [
    {
     "data": {
      "text/plain": [
       "trustLevel                   0\n",
       "totalScanTimeInSeconds       0\n",
       "grandTotal                   0\n",
       "lineItemVoids                0\n",
       "scansWithoutRegistration     0\n",
       "quantityModifications        0\n",
       "scannedLineItemsPerSecond    0\n",
       "valuePerSecond               0\n",
       "lineItemVoidsPerPosition     0\n",
       "fraud                        0\n",
       "dtype: int64"
      ]
     },
     "execution_count": 5,
     "metadata": {},
     "output_type": "execute_result"
    }
   ],
   "source": [
    "data_train.isnull().sum()"
   ]
  },
  {
   "cell_type": "code",
   "execution_count": 6,
   "metadata": {},
   "outputs": [
    {
     "data": {
      "text/html": [
       "<div>\n",
       "<style scoped>\n",
       "    .dataframe tbody tr th:only-of-type {\n",
       "        vertical-align: middle;\n",
       "    }\n",
       "\n",
       "    .dataframe tbody tr th {\n",
       "        vertical-align: top;\n",
       "    }\n",
       "\n",
       "    .dataframe thead th {\n",
       "        text-align: right;\n",
       "    }\n",
       "</style>\n",
       "<table border=\"1\" class=\"dataframe\">\n",
       "  <thead>\n",
       "    <tr style=\"text-align: right;\">\n",
       "      <th></th>\n",
       "      <th>trustLevel</th>\n",
       "      <th>totalScanTimeInSeconds</th>\n",
       "      <th>grandTotal</th>\n",
       "      <th>lineItemVoids</th>\n",
       "      <th>scansWithoutRegistration</th>\n",
       "      <th>quantityModifications</th>\n",
       "      <th>scannedLineItemsPerSecond</th>\n",
       "      <th>valuePerSecond</th>\n",
       "      <th>lineItemVoidsPerPosition</th>\n",
       "      <th>fraud</th>\n",
       "    </tr>\n",
       "  </thead>\n",
       "  <tbody>\n",
       "    <tr>\n",
       "      <th>0</th>\n",
       "      <td>4</td>\n",
       "      <td>467</td>\n",
       "      <td>88.48</td>\n",
       "      <td>4</td>\n",
       "      <td>8</td>\n",
       "      <td>4</td>\n",
       "      <td>0.014989</td>\n",
       "      <td>0.189465</td>\n",
       "      <td>0.571429</td>\n",
       "      <td>NaN</td>\n",
       "    </tr>\n",
       "    <tr>\n",
       "      <th>1</th>\n",
       "      <td>3</td>\n",
       "      <td>1004</td>\n",
       "      <td>58.99</td>\n",
       "      <td>7</td>\n",
       "      <td>6</td>\n",
       "      <td>1</td>\n",
       "      <td>0.026892</td>\n",
       "      <td>0.058755</td>\n",
       "      <td>0.259259</td>\n",
       "      <td>NaN</td>\n",
       "    </tr>\n",
       "    <tr>\n",
       "      <th>2</th>\n",
       "      <td>1</td>\n",
       "      <td>162</td>\n",
       "      <td>14.00</td>\n",
       "      <td>4</td>\n",
       "      <td>5</td>\n",
       "      <td>4</td>\n",
       "      <td>0.006173</td>\n",
       "      <td>0.086420</td>\n",
       "      <td>4.000000</td>\n",
       "      <td>NaN</td>\n",
       "    </tr>\n",
       "    <tr>\n",
       "      <th>3</th>\n",
       "      <td>5</td>\n",
       "      <td>532</td>\n",
       "      <td>84.79</td>\n",
       "      <td>9</td>\n",
       "      <td>3</td>\n",
       "      <td>4</td>\n",
       "      <td>0.026316</td>\n",
       "      <td>0.159380</td>\n",
       "      <td>0.642857</td>\n",
       "      <td>NaN</td>\n",
       "    </tr>\n",
       "    <tr>\n",
       "      <th>4</th>\n",
       "      <td>5</td>\n",
       "      <td>890</td>\n",
       "      <td>42.16</td>\n",
       "      <td>4</td>\n",
       "      <td>0</td>\n",
       "      <td>0</td>\n",
       "      <td>0.021348</td>\n",
       "      <td>0.047371</td>\n",
       "      <td>0.210526</td>\n",
       "      <td>NaN</td>\n",
       "    </tr>\n",
       "  </tbody>\n",
       "</table>\n",
       "</div>"
      ],
      "text/plain": [
       "   trustLevel  totalScanTimeInSeconds  grandTotal  lineItemVoids  \\\n",
       "0           4                     467       88.48              4   \n",
       "1           3                    1004       58.99              7   \n",
       "2           1                     162       14.00              4   \n",
       "3           5                     532       84.79              9   \n",
       "4           5                     890       42.16              4   \n",
       "\n",
       "   scansWithoutRegistration  quantityModifications  scannedLineItemsPerSecond  \\\n",
       "0                         8                      4                   0.014989   \n",
       "1                         6                      1                   0.026892   \n",
       "2                         5                      4                   0.006173   \n",
       "3                         3                      4                   0.026316   \n",
       "4                         0                      0                   0.021348   \n",
       "\n",
       "   valuePerSecond  lineItemVoidsPerPosition  fraud  \n",
       "0        0.189465                  0.571429    NaN  \n",
       "1        0.058755                  0.259259    NaN  \n",
       "2        0.086420                  4.000000    NaN  \n",
       "3        0.159380                  0.642857    NaN  \n",
       "4        0.047371                  0.210526    NaN  "
      ]
     },
     "execution_count": 6,
     "metadata": {},
     "output_type": "execute_result"
    }
   ],
   "source": [
    "data_test= pd.read_csv('test.csv')\n",
    "data_test.head()"
   ]
  },
  {
   "cell_type": "code",
   "execution_count": 7,
   "metadata": {},
   "outputs": [
    {
     "data": {
      "text/plain": [
       "(498121, 10)"
      ]
     },
     "execution_count": 7,
     "metadata": {},
     "output_type": "execute_result"
    }
   ],
   "source": [
    "# Melihat jumlah baris dan kolom\n",
    "data_test.shape"
   ]
  },
  {
   "cell_type": "code",
   "execution_count": 8,
   "metadata": {},
   "outputs": [
    {
     "data": {
      "text/plain": [
       "trustLevel                     int64\n",
       "totalScanTimeInSeconds         int64\n",
       "grandTotal                   float64\n",
       "lineItemVoids                  int64\n",
       "scansWithoutRegistration       int64\n",
       "quantityModifications          int64\n",
       "scannedLineItemsPerSecond    float64\n",
       "valuePerSecond               float64\n",
       "lineItemVoidsPerPosition     float64\n",
       "fraud                        float64\n",
       "dtype: object"
      ]
     },
     "execution_count": 8,
     "metadata": {},
     "output_type": "execute_result"
    }
   ],
   "source": [
    "# Tipe data setiap kolom\n",
    "data_test.dtypes"
   ]
  },
  {
   "cell_type": "code",
   "execution_count": 9,
   "metadata": {},
   "outputs": [
    {
     "data": {
      "text/plain": [
       "trustLevel                        0\n",
       "totalScanTimeInSeconds            0\n",
       "grandTotal                        0\n",
       "lineItemVoids                     0\n",
       "scansWithoutRegistration          0\n",
       "quantityModifications             0\n",
       "scannedLineItemsPerSecond         0\n",
       "valuePerSecond                    0\n",
       "lineItemVoidsPerPosition          0\n",
       "fraud                        498121\n",
       "dtype: int64"
      ]
     },
     "execution_count": 9,
     "metadata": {},
     "output_type": "execute_result"
    }
   ],
   "source": [
    "data_test.isnull().sum()"
   ]
  },
  {
   "cell_type": "code",
   "execution_count": 10,
   "metadata": {},
   "outputs": [
    {
     "name": "stdout",
     "output_type": "stream",
     "text": [
      "None\n"
     ]
    }
   ],
   "source": [
    "cekDuplikat = data_train.drop_duplicates(keep= False, inplace= True)\n",
    "print(cekDuplikat)"
   ]
  },
  {
   "cell_type": "code",
   "execution_count": 11,
   "metadata": {},
   "outputs": [
    {
     "data": {
      "text/html": [
       "<div>\n",
       "<style scoped>\n",
       "    .dataframe tbody tr th:only-of-type {\n",
       "        vertical-align: middle;\n",
       "    }\n",
       "\n",
       "    .dataframe tbody tr th {\n",
       "        vertical-align: top;\n",
       "    }\n",
       "\n",
       "    .dataframe thead th {\n",
       "        text-align: right;\n",
       "    }\n",
       "</style>\n",
       "<table border=\"1\" class=\"dataframe\">\n",
       "  <thead>\n",
       "    <tr style=\"text-align: right;\">\n",
       "      <th></th>\n",
       "      <th>trustLevel</th>\n",
       "      <th>totalScanTimeInSeconds</th>\n",
       "      <th>grandTotal</th>\n",
       "      <th>lineItemVoids</th>\n",
       "      <th>scansWithoutRegistration</th>\n",
       "      <th>quantityModifications</th>\n",
       "      <th>scannedLineItemsPerSecond</th>\n",
       "      <th>valuePerSecond</th>\n",
       "      <th>lineItemVoidsPerPosition</th>\n",
       "      <th>fraud</th>\n",
       "    </tr>\n",
       "  </thead>\n",
       "  <tbody>\n",
       "    <tr>\n",
       "      <th>count</th>\n",
       "      <td>1879.000000</td>\n",
       "      <td>1879.000000</td>\n",
       "      <td>1879.000000</td>\n",
       "      <td>1879.000000</td>\n",
       "      <td>1879.000000</td>\n",
       "      <td>1879.000000</td>\n",
       "      <td>1879.000000</td>\n",
       "      <td>1879.000000</td>\n",
       "      <td>1879.000000</td>\n",
       "      <td>1879.000000</td>\n",
       "    </tr>\n",
       "    <tr>\n",
       "      <th>mean</th>\n",
       "      <td>3.401809</td>\n",
       "      <td>932.153273</td>\n",
       "      <td>50.864492</td>\n",
       "      <td>5.469931</td>\n",
       "      <td>4.904204</td>\n",
       "      <td>2.525279</td>\n",
       "      <td>0.058138</td>\n",
       "      <td>0.201746</td>\n",
       "      <td>0.745404</td>\n",
       "      <td>0.055349</td>\n",
       "    </tr>\n",
       "    <tr>\n",
       "      <th>std</th>\n",
       "      <td>1.709404</td>\n",
       "      <td>530.144640</td>\n",
       "      <td>28.940202</td>\n",
       "      <td>3.451169</td>\n",
       "      <td>3.139697</td>\n",
       "      <td>1.695472</td>\n",
       "      <td>0.278512</td>\n",
       "      <td>1.242135</td>\n",
       "      <td>1.327241</td>\n",
       "      <td>0.228720</td>\n",
       "    </tr>\n",
       "    <tr>\n",
       "      <th>min</th>\n",
       "      <td>1.000000</td>\n",
       "      <td>2.000000</td>\n",
       "      <td>0.010000</td>\n",
       "      <td>0.000000</td>\n",
       "      <td>0.000000</td>\n",
       "      <td>0.000000</td>\n",
       "      <td>0.000548</td>\n",
       "      <td>0.000007</td>\n",
       "      <td>0.000000</td>\n",
       "      <td>0.000000</td>\n",
       "    </tr>\n",
       "    <tr>\n",
       "      <th>25%</th>\n",
       "      <td>2.000000</td>\n",
       "      <td>474.500000</td>\n",
       "      <td>25.965000</td>\n",
       "      <td>2.000000</td>\n",
       "      <td>2.000000</td>\n",
       "      <td>1.000000</td>\n",
       "      <td>0.008384</td>\n",
       "      <td>0.027787</td>\n",
       "      <td>0.160000</td>\n",
       "      <td>0.000000</td>\n",
       "    </tr>\n",
       "    <tr>\n",
       "      <th>50%</th>\n",
       "      <td>3.000000</td>\n",
       "      <td>932.000000</td>\n",
       "      <td>51.210000</td>\n",
       "      <td>5.000000</td>\n",
       "      <td>5.000000</td>\n",
       "      <td>3.000000</td>\n",
       "      <td>0.016317</td>\n",
       "      <td>0.054498</td>\n",
       "      <td>0.350000</td>\n",
       "      <td>0.000000</td>\n",
       "    </tr>\n",
       "    <tr>\n",
       "      <th>75%</th>\n",
       "      <td>5.000000</td>\n",
       "      <td>1397.000000</td>\n",
       "      <td>77.285000</td>\n",
       "      <td>8.000000</td>\n",
       "      <td>8.000000</td>\n",
       "      <td>4.000000</td>\n",
       "      <td>0.032594</td>\n",
       "      <td>0.107313</td>\n",
       "      <td>0.666667</td>\n",
       "      <td>0.000000</td>\n",
       "    </tr>\n",
       "    <tr>\n",
       "      <th>max</th>\n",
       "      <td>6.000000</td>\n",
       "      <td>1831.000000</td>\n",
       "      <td>99.960000</td>\n",
       "      <td>11.000000</td>\n",
       "      <td>10.000000</td>\n",
       "      <td>5.000000</td>\n",
       "      <td>6.666667</td>\n",
       "      <td>37.870000</td>\n",
       "      <td>11.000000</td>\n",
       "      <td>1.000000</td>\n",
       "    </tr>\n",
       "  </tbody>\n",
       "</table>\n",
       "</div>"
      ],
      "text/plain": [
       "        trustLevel  totalScanTimeInSeconds   grandTotal  lineItemVoids  \\\n",
       "count  1879.000000             1879.000000  1879.000000    1879.000000   \n",
       "mean      3.401809              932.153273    50.864492       5.469931   \n",
       "std       1.709404              530.144640    28.940202       3.451169   \n",
       "min       1.000000                2.000000     0.010000       0.000000   \n",
       "25%       2.000000              474.500000    25.965000       2.000000   \n",
       "50%       3.000000              932.000000    51.210000       5.000000   \n",
       "75%       5.000000             1397.000000    77.285000       8.000000   \n",
       "max       6.000000             1831.000000    99.960000      11.000000   \n",
       "\n",
       "       scansWithoutRegistration  quantityModifications  \\\n",
       "count               1879.000000            1879.000000   \n",
       "mean                   4.904204               2.525279   \n",
       "std                    3.139697               1.695472   \n",
       "min                    0.000000               0.000000   \n",
       "25%                    2.000000               1.000000   \n",
       "50%                    5.000000               3.000000   \n",
       "75%                    8.000000               4.000000   \n",
       "max                   10.000000               5.000000   \n",
       "\n",
       "       scannedLineItemsPerSecond  valuePerSecond  lineItemVoidsPerPosition  \\\n",
       "count                1879.000000     1879.000000               1879.000000   \n",
       "mean                    0.058138        0.201746                  0.745404   \n",
       "std                     0.278512        1.242135                  1.327241   \n",
       "min                     0.000548        0.000007                  0.000000   \n",
       "25%                     0.008384        0.027787                  0.160000   \n",
       "50%                     0.016317        0.054498                  0.350000   \n",
       "75%                     0.032594        0.107313                  0.666667   \n",
       "max                     6.666667       37.870000                 11.000000   \n",
       "\n",
       "             fraud  \n",
       "count  1879.000000  \n",
       "mean      0.055349  \n",
       "std       0.228720  \n",
       "min       0.000000  \n",
       "25%       0.000000  \n",
       "50%       0.000000  \n",
       "75%       0.000000  \n",
       "max       1.000000  "
      ]
     },
     "execution_count": 11,
     "metadata": {},
     "output_type": "execute_result"
    }
   ],
   "source": [
    "data_train.describe(include='all')"
   ]
  },
  {
   "cell_type": "markdown",
   "metadata": {},
   "source": [
    "Korelasi"
   ]
  },
  {
   "cell_type": "markdown",
   "metadata": {},
   "source": [
    "Pada tahap ini akan dihitung korelasi antar kolom/atribut pada data. Hal ini bertujuan untuk melihat atribut yang paling memiliki hubungan terhadap data target sehingga dapat dipertimbangkan atribut mana yang akan digunakan agar hasil pembelajaran lebih efektif serta akurasi lebih tinggi. Data target disini saya memutuskan untuk memilih'fraud'"
   ]
  },
  {
   "cell_type": "code",
   "execution_count": 12,
   "metadata": {},
   "outputs": [
    {
     "data": {
      "text/html": [
       "<div>\n",
       "<style scoped>\n",
       "    .dataframe tbody tr th:only-of-type {\n",
       "        vertical-align: middle;\n",
       "    }\n",
       "\n",
       "    .dataframe tbody tr th {\n",
       "        vertical-align: top;\n",
       "    }\n",
       "\n",
       "    .dataframe thead th {\n",
       "        text-align: right;\n",
       "    }\n",
       "</style>\n",
       "<table border=\"1\" class=\"dataframe\">\n",
       "  <thead>\n",
       "    <tr style=\"text-align: right;\">\n",
       "      <th></th>\n",
       "      <th>trustLevel</th>\n",
       "      <th>totalScanTimeInSeconds</th>\n",
       "      <th>grandTotal</th>\n",
       "      <th>lineItemVoids</th>\n",
       "      <th>scansWithoutRegistration</th>\n",
       "      <th>quantityModifications</th>\n",
       "      <th>scannedLineItemsPerSecond</th>\n",
       "      <th>valuePerSecond</th>\n",
       "      <th>lineItemVoidsPerPosition</th>\n",
       "      <th>fraud</th>\n",
       "    </tr>\n",
       "  </thead>\n",
       "  <tbody>\n",
       "    <tr>\n",
       "      <th>trustLevel</th>\n",
       "      <td>1.000000</td>\n",
       "      <td>0.025264</td>\n",
       "      <td>0.047656</td>\n",
       "      <td>-0.017312</td>\n",
       "      <td>0.017296</td>\n",
       "      <td>0.006506</td>\n",
       "      <td>0.030701</td>\n",
       "      <td>0.027626</td>\n",
       "      <td>0.009241</td>\n",
       "      <td>-0.319765</td>\n",
       "    </tr>\n",
       "    <tr>\n",
       "      <th>totalScanTimeInSeconds</th>\n",
       "      <td>0.025264</td>\n",
       "      <td>1.000000</td>\n",
       "      <td>-0.001230</td>\n",
       "      <td>0.019068</td>\n",
       "      <td>0.009066</td>\n",
       "      <td>-0.011415</td>\n",
       "      <td>-0.262988</td>\n",
       "      <td>-0.208450</td>\n",
       "      <td>-0.011623</td>\n",
       "      <td>0.110414</td>\n",
       "    </tr>\n",
       "    <tr>\n",
       "      <th>grandTotal</th>\n",
       "      <td>0.047656</td>\n",
       "      <td>-0.001230</td>\n",
       "      <td>1.000000</td>\n",
       "      <td>0.006321</td>\n",
       "      <td>-0.030573</td>\n",
       "      <td>-0.008163</td>\n",
       "      <td>-0.011885</td>\n",
       "      <td>0.075679</td>\n",
       "      <td>-0.008858</td>\n",
       "      <td>0.001421</td>\n",
       "    </tr>\n",
       "    <tr>\n",
       "      <th>lineItemVoids</th>\n",
       "      <td>-0.017312</td>\n",
       "      <td>0.019068</td>\n",
       "      <td>0.006321</td>\n",
       "      <td>1.000000</td>\n",
       "      <td>-0.017023</td>\n",
       "      <td>-0.007173</td>\n",
       "      <td>-0.004438</td>\n",
       "      <td>0.005114</td>\n",
       "      <td>0.346514</td>\n",
       "      <td>0.063496</td>\n",
       "    </tr>\n",
       "    <tr>\n",
       "      <th>scansWithoutRegistration</th>\n",
       "      <td>0.017296</td>\n",
       "      <td>0.009066</td>\n",
       "      <td>-0.030573</td>\n",
       "      <td>-0.017023</td>\n",
       "      <td>1.000000</td>\n",
       "      <td>0.018961</td>\n",
       "      <td>-0.024126</td>\n",
       "      <td>-0.018844</td>\n",
       "      <td>0.002834</td>\n",
       "      <td>0.074123</td>\n",
       "    </tr>\n",
       "    <tr>\n",
       "      <th>quantityModifications</th>\n",
       "      <td>0.006506</td>\n",
       "      <td>-0.011415</td>\n",
       "      <td>-0.008163</td>\n",
       "      <td>-0.007173</td>\n",
       "      <td>0.018961</td>\n",
       "      <td>1.000000</td>\n",
       "      <td>-0.014880</td>\n",
       "      <td>0.010548</td>\n",
       "      <td>0.018318</td>\n",
       "      <td>-0.000864</td>\n",
       "    </tr>\n",
       "    <tr>\n",
       "      <th>scannedLineItemsPerSecond</th>\n",
       "      <td>0.030701</td>\n",
       "      <td>-0.262988</td>\n",
       "      <td>-0.011885</td>\n",
       "      <td>-0.004438</td>\n",
       "      <td>-0.024126</td>\n",
       "      <td>-0.014880</td>\n",
       "      <td>1.000000</td>\n",
       "      <td>0.692152</td>\n",
       "      <td>-0.056316</td>\n",
       "      <td>-0.023085</td>\n",
       "    </tr>\n",
       "    <tr>\n",
       "      <th>valuePerSecond</th>\n",
       "      <td>0.027626</td>\n",
       "      <td>-0.208450</td>\n",
       "      <td>0.075679</td>\n",
       "      <td>0.005114</td>\n",
       "      <td>-0.018844</td>\n",
       "      <td>0.010548</td>\n",
       "      <td>0.692152</td>\n",
       "      <td>1.000000</td>\n",
       "      <td>0.019886</td>\n",
       "      <td>-0.028873</td>\n",
       "    </tr>\n",
       "    <tr>\n",
       "      <th>lineItemVoidsPerPosition</th>\n",
       "      <td>0.009241</td>\n",
       "      <td>-0.011623</td>\n",
       "      <td>-0.008858</td>\n",
       "      <td>0.346514</td>\n",
       "      <td>0.002834</td>\n",
       "      <td>0.018318</td>\n",
       "      <td>-0.056316</td>\n",
       "      <td>0.019886</td>\n",
       "      <td>1.000000</td>\n",
       "      <td>-0.090116</td>\n",
       "    </tr>\n",
       "    <tr>\n",
       "      <th>fraud</th>\n",
       "      <td>-0.319765</td>\n",
       "      <td>0.110414</td>\n",
       "      <td>0.001421</td>\n",
       "      <td>0.063496</td>\n",
       "      <td>0.074123</td>\n",
       "      <td>-0.000864</td>\n",
       "      <td>-0.023085</td>\n",
       "      <td>-0.028873</td>\n",
       "      <td>-0.090116</td>\n",
       "      <td>1.000000</td>\n",
       "    </tr>\n",
       "  </tbody>\n",
       "</table>\n",
       "</div>"
      ],
      "text/plain": [
       "                           trustLevel  totalScanTimeInSeconds  grandTotal  \\\n",
       "trustLevel                   1.000000                0.025264    0.047656   \n",
       "totalScanTimeInSeconds       0.025264                1.000000   -0.001230   \n",
       "grandTotal                   0.047656               -0.001230    1.000000   \n",
       "lineItemVoids               -0.017312                0.019068    0.006321   \n",
       "scansWithoutRegistration     0.017296                0.009066   -0.030573   \n",
       "quantityModifications        0.006506               -0.011415   -0.008163   \n",
       "scannedLineItemsPerSecond    0.030701               -0.262988   -0.011885   \n",
       "valuePerSecond               0.027626               -0.208450    0.075679   \n",
       "lineItemVoidsPerPosition     0.009241               -0.011623   -0.008858   \n",
       "fraud                       -0.319765                0.110414    0.001421   \n",
       "\n",
       "                           lineItemVoids  scansWithoutRegistration  \\\n",
       "trustLevel                     -0.017312                  0.017296   \n",
       "totalScanTimeInSeconds          0.019068                  0.009066   \n",
       "grandTotal                      0.006321                 -0.030573   \n",
       "lineItemVoids                   1.000000                 -0.017023   \n",
       "scansWithoutRegistration       -0.017023                  1.000000   \n",
       "quantityModifications          -0.007173                  0.018961   \n",
       "scannedLineItemsPerSecond      -0.004438                 -0.024126   \n",
       "valuePerSecond                  0.005114                 -0.018844   \n",
       "lineItemVoidsPerPosition        0.346514                  0.002834   \n",
       "fraud                           0.063496                  0.074123   \n",
       "\n",
       "                           quantityModifications  scannedLineItemsPerSecond  \\\n",
       "trustLevel                              0.006506                   0.030701   \n",
       "totalScanTimeInSeconds                 -0.011415                  -0.262988   \n",
       "grandTotal                             -0.008163                  -0.011885   \n",
       "lineItemVoids                          -0.007173                  -0.004438   \n",
       "scansWithoutRegistration                0.018961                  -0.024126   \n",
       "quantityModifications                   1.000000                  -0.014880   \n",
       "scannedLineItemsPerSecond              -0.014880                   1.000000   \n",
       "valuePerSecond                          0.010548                   0.692152   \n",
       "lineItemVoidsPerPosition                0.018318                  -0.056316   \n",
       "fraud                                  -0.000864                  -0.023085   \n",
       "\n",
       "                           valuePerSecond  lineItemVoidsPerPosition     fraud  \n",
       "trustLevel                       0.027626                  0.009241 -0.319765  \n",
       "totalScanTimeInSeconds          -0.208450                 -0.011623  0.110414  \n",
       "grandTotal                       0.075679                 -0.008858  0.001421  \n",
       "lineItemVoids                    0.005114                  0.346514  0.063496  \n",
       "scansWithoutRegistration        -0.018844                  0.002834  0.074123  \n",
       "quantityModifications            0.010548                  0.018318 -0.000864  \n",
       "scannedLineItemsPerSecond        0.692152                 -0.056316 -0.023085  \n",
       "valuePerSecond                   1.000000                  0.019886 -0.028873  \n",
       "lineItemVoidsPerPosition         0.019886                  1.000000 -0.090116  \n",
       "fraud                           -0.028873                 -0.090116  1.000000  "
      ]
     },
     "execution_count": 12,
     "metadata": {},
     "output_type": "execute_result"
    }
   ],
   "source": [
    "korelasi=data_train.corr()\n",
    "korelasi"
   ]
  },
  {
   "cell_type": "code",
   "execution_count": 13,
   "metadata": {},
   "outputs": [
    {
     "data": {
      "text/plain": [
       "trustLevel                  -0.319765\n",
       "totalScanTimeInSeconds       0.110414\n",
       "grandTotal                   0.001421\n",
       "lineItemVoids                0.063496\n",
       "scansWithoutRegistration     0.074123\n",
       "quantityModifications       -0.000864\n",
       "scannedLineItemsPerSecond   -0.023085\n",
       "valuePerSecond              -0.028873\n",
       "lineItemVoidsPerPosition    -0.090116\n",
       "Name: fraud, dtype: float64"
      ]
     },
     "execution_count": 13,
     "metadata": {},
     "output_type": "execute_result"
    }
   ],
   "source": [
    "cor = korelasi['fraud']\n",
    "cor.drop(['fraud'])"
   ]
  },
  {
   "cell_type": "code",
   "execution_count": 14,
   "metadata": {},
   "outputs": [
    {
     "data": {
      "text/plain": [
       "[0.11041383578994331,\n",
       " 0.07412251938437169,\n",
       " 0.06349632453327045,\n",
       " 0.0014208857850567384,\n",
       " -0.0008637731601254817,\n",
       " -0.023085349813921005,\n",
       " -0.02887274098097795,\n",
       " -0.09011639588232638,\n",
       " -0.31976521457945]"
      ]
     },
     "execution_count": 14,
     "metadata": {},
     "output_type": "execute_result"
    }
   ],
   "source": [
    "sorted(cor.drop(['fraud']), reverse=True)"
   ]
  },
  {
   "cell_type": "code",
   "execution_count": 15,
   "metadata": {},
   "outputs": [
    {
     "data": {
      "image/png": "[encoded data removed]",
      "text/plain": [
       "<Figure size 1440x1440 with 12 Axes>"
      ]
     },
     "metadata": {
      "needs_background": "light"
     },
     "output_type": "display_data"
    }
   ],
   "source": [
    "p = data_train.hist(figsize = (20,20))"
   ]
  },
  {
   "cell_type": "code",
   "execution_count": 16,
   "metadata": {},
   "outputs": [
    {
     "data": {
      "text/plain": [
       "trustLevel                        2.922063\n",
       "totalScanTimeInSeconds       281053.339647\n",
       "grandTotal                      837.535273\n",
       "lineItemVoids                    11.910570\n",
       "scansWithoutRegistration          9.857698\n",
       "quantityModifications             2.874627\n",
       "scannedLineItemsPerSecond         0.077569\n",
       "valuePerSecond                    1.542898\n",
       "lineItemVoidsPerPosition          1.761570\n",
       "fraud                             0.052313\n",
       "dtype: float64"
      ]
     },
     "execution_count": 16,
     "metadata": {},
     "output_type": "execute_result"
    }
   ],
   "source": [
    "data_train.var()"
   ]
  },
  {
   "cell_type": "code",
   "execution_count": 17,
   "metadata": {},
   "outputs": [
    {
     "data": {
      "image/png": "[encoded data removed]",
      "text/plain": [
       "<Figure size 864x720 with 2 Axes>"
      ]
     },
     "metadata": {
      "needs_background": "light"
     },
     "output_type": "display_data"
    }
   ],
   "source": [
    "plt.figure(figsize=(12,10))  # on this line I just set the size of figure to 12 by 10.\n",
    "p=sns.heatmap(data_train.corr(), annot=True,cmap ='RdYlGn')  # seaborn has very simple solution for heatmap"
   ]
  },
  {
   "cell_type": "markdown",
   "metadata": {},
   "source": [
    "Lihat Oultier"
   ]
  },
  {
   "cell_type": "code",
   "execution_count": 18,
   "metadata": {},
   "outputs": [
    {
     "data": {
      "image/png": "[encoded data removed]",
      "text/plain": [
       "<Figure size 216x432 with 1 Axes>"
      ]
     },
     "metadata": {
      "needs_background": "light"
     },
     "output_type": "display_data"
    }
   ],
   "source": [
    "plt.figure(figsize=(3,6))\n",
    "sns.boxplot(y='trustLevel', data=data_train,showfliers=False);"
   ]
  },
  {
   "cell_type": "code",
   "execution_count": 19,
   "metadata": {},
   "outputs": [
    {
     "data": {
      "text/plain": [
       "count    1879.000000\n",
       "mean        3.401809\n",
       "std         1.709404\n",
       "min         1.000000\n",
       "25%         2.000000\n",
       "50%         3.000000\n",
       "75%         5.000000\n",
       "max         6.000000\n",
       "Name: trustLevel, dtype: float64"
      ]
     },
     "execution_count": 19,
     "metadata": {},
     "output_type": "execute_result"
    },
    {
     "data": {
      "image/png": "[encoded data removed]",
      "text/plain": [
       "<Figure size 432x288 with 1 Axes>"
      ]
     },
     "metadata": {
      "needs_background": "light"
     },
     "output_type": "display_data"
    }
   ],
   "source": [
    "plt.boxplot(data_train['trustLevel'])\n",
    "data_train['trustLevel'].describe()"
   ]
  },
  {
   "cell_type": "code",
   "execution_count": 20,
   "metadata": {},
   "outputs": [
    {
     "data": {
      "image/png": "[encoded data removed]",
      "text/plain": [
       "<Figure size 216x432 with 1 Axes>"
      ]
     },
     "metadata": {
      "needs_background": "light"
     },
     "output_type": "display_data"
    }
   ],
   "source": [
    "plt.figure(figsize=(3,6))\n",
    "sns.boxplot(y='totalScanTimeInSeconds', data=data_train,showfliers=False);"
   ]
  },
  {
   "cell_type": "code",
   "execution_count": 21,
   "metadata": {},
   "outputs": [
    {
     "data": {
      "text/plain": [
       "count    1879.000000\n",
       "mean      932.153273\n",
       "std       530.144640\n",
       "min         2.000000\n",
       "25%       474.500000\n",
       "50%       932.000000\n",
       "75%      1397.000000\n",
       "max      1831.000000\n",
       "Name: totalScanTimeInSeconds, dtype: float64"
      ]
     },
     "execution_count": 21,
     "metadata": {},
     "output_type": "execute_result"
    },
    {
     "data": {
      "image/png": "[encoded data removed]",
      "text/plain": [
       "<Figure size 432x288 with 1 Axes>"
      ]
     },
     "metadata": {
      "needs_background": "light"
     },
     "output_type": "display_data"
    }
   ],
   "source": [
    "plt.boxplot(data_train['totalScanTimeInSeconds'])\n",
    "data_train['totalScanTimeInSeconds'].describe()"
   ]
  },
  {
   "cell_type": "code",
   "execution_count": 22,
   "metadata": {},
   "outputs": [
    {
     "data": {
      "image/png": "[encoded data removed]",
      "text/plain": [
       "<Figure size 216x432 with 1 Axes>"
      ]
     },
     "metadata": {
      "needs_background": "light"
     },
     "output_type": "display_data"
    }
   ],
   "source": [
    "plt.figure(figsize=(3,6))\n",
    "sns.boxplot(y='grandTotal', data=data_train,showfliers=False);"
   ]
  },
  {
   "cell_type": "code",
   "execution_count": 23,
   "metadata": {},
   "outputs": [
    {
     "data": {
      "text/plain": [
       "count    1879.000000\n",
       "mean       50.864492\n",
       "std        28.940202\n",
       "min         0.010000\n",
       "25%        25.965000\n",
       "50%        51.210000\n",
       "75%        77.285000\n",
       "max        99.960000\n",
       "Name: grandTotal, dtype: float64"
      ]
     },
     "execution_count": 23,
     "metadata": {},
     "output_type": "execute_result"
    },
    {
     "data": {
      "image/png": "[encoded data removed]",
      "text/plain": [
       "<Figure size 432x288 with 1 Axes>"
      ]
     },
     "metadata": {
      "needs_background": "light"
     },
     "output_type": "display_data"
    }
   ],
   "source": [
    "plt.boxplot(data_train['grandTotal'])\n",
    "data_train['grandTotal'].describe()"
   ]
  },
  {
   "cell_type": "code",
   "execution_count": 24,
   "metadata": {},
   "outputs": [
    {
     "data": {
      "image/png": "[encoded data removed]",
      "text/plain": [
       "<Figure size 216x432 with 1 Axes>"
      ]
     },
     "metadata": {
      "needs_background": "light"
     },
     "output_type": "display_data"
    }
   ],
   "source": [
    "plt.figure(figsize=(3,6))\n",
    "sns.boxplot(y='lineItemVoids', data=data_train,showfliers=False);"
   ]
  },
  {
   "cell_type": "code",
   "execution_count": 25,
   "metadata": {},
   "outputs": [
    {
     "data": {
      "text/plain": [
       "count    1879.000000\n",
       "mean        5.469931\n",
       "std         3.451169\n",
       "min         0.000000\n",
       "25%         2.000000\n",
       "50%         5.000000\n",
       "75%         8.000000\n",
       "max        11.000000\n",
       "Name: lineItemVoids, dtype: float64"
      ]
     },
     "execution_count": 25,
     "metadata": {},
     "output_type": "execute_result"
    },
    {
     "data": {
      "image/png": "[encoded data removed]",
      "text/plain": [
       "<Figure size 432x288 with 1 Axes>"
      ]
     },
     "metadata": {
      "needs_background": "light"
     },
     "output_type": "display_data"
    }
   ],
   "source": [
    "plt.boxplot(data_train['lineItemVoids'])\n",
    "data_train['lineItemVoids'].describe()"
   ]
  },
  {
   "cell_type": "code",
   "execution_count": 26,
   "metadata": {},
   "outputs": [
    {
     "data": {
      "image/png": "[encoded data removed]",
      "text/plain": [
       "<Figure size 216x432 with 1 Axes>"
      ]
     },
     "metadata": {
      "needs_background": "light"
     },
     "output_type": "display_data"
    }
   ],
   "source": [
    "plt.figure(figsize=(3,6))\n",
    "sns.boxplot(y='scansWithoutRegistration', data=data_train,showfliers=False);"
   ]
  },
  {
   "cell_type": "code",
   "execution_count": 27,
   "metadata": {},
   "outputs": [
    {
     "data": {
      "text/plain": [
       "count    1879.000000\n",
       "mean        4.904204\n",
       "std         3.139697\n",
       "min         0.000000\n",
       "25%         2.000000\n",
       "50%         5.000000\n",
       "75%         8.000000\n",
       "max        10.000000\n",
       "Name: scansWithoutRegistration, dtype: float64"
      ]
     },
     "execution_count": 27,
     "metadata": {},
     "output_type": "execute_result"
    },
    {
     "data": {
      "image/png": "[encoded data removed]",
      "text/plain": [
       "<Figure size 432x288 with 1 Axes>"
      ]
     },
     "metadata": {
      "needs_background": "light"
     },
     "output_type": "display_data"
    }
   ],
   "source": [
    "plt.boxplot(data_train['scansWithoutRegistration'])\n",
    "data_train['scansWithoutRegistration'].describe()"
   ]
  },
  {
   "cell_type": "code",
   "execution_count": 28,
   "metadata": {},
   "outputs": [
    {
     "data": {
      "image/png": "[encoded data removed]",
      "text/plain": [
       "<Figure size 216x432 with 1 Axes>"
      ]
     },
     "metadata": {
      "needs_background": "light"
     },
     "output_type": "display_data"
    }
   ],
   "source": [
    "plt.figure(figsize=(3,6))\n",
    "sns.boxplot(y='quantityModifications', data=data_train,showfliers=False);"
   ]
  },
  {
   "cell_type": "code",
   "execution_count": 29,
   "metadata": {},
   "outputs": [
    {
     "data": {
      "text/plain": [
       "count    1879.000000\n",
       "mean        2.525279\n",
       "std         1.695472\n",
       "min         0.000000\n",
       "25%         1.000000\n",
       "50%         3.000000\n",
       "75%         4.000000\n",
       "max         5.000000\n",
       "Name: quantityModifications, dtype: float64"
      ]
     },
     "execution_count": 29,
     "metadata": {},
     "output_type": "execute_result"
    },
    {
     "data": {
      "image/png": "[encoded data removed]",
      "text/plain": [
       "<Figure size 432x288 with 1 Axes>"
      ]
     },
     "metadata": {
      "needs_background": "light"
     },
     "output_type": "display_data"
    }
   ],
   "source": [
    "plt.boxplot(data_train['quantityModifications'])\n",
    "data_train['quantityModifications'].describe()"
   ]
  },
  {
   "cell_type": "code",
   "execution_count": 30,
   "metadata": {},
   "outputs": [
    {
     "data": {
      "image/png": "[encoded data removed]",
      "text/plain": [
       "<Figure size 216x432 with 1 Axes>"
      ]
     },
     "metadata": {
      "needs_background": "light"
     },
     "output_type": "display_data"
    }
   ],
   "source": [
    "plt.figure(figsize=(3,6))\n",
    "sns.boxplot(y='lineItemVoidsPerPosition', data=data_train,showfliers=False);"
   ]
  },
  {
   "cell_type": "code",
   "execution_count": 31,
   "metadata": {},
   "outputs": [
    {
     "data": {
      "text/plain": [
       "count    1879.000000\n",
       "mean        0.745404\n",
       "std         1.327241\n",
       "min         0.000000\n",
       "25%         0.160000\n",
       "50%         0.350000\n",
       "75%         0.666667\n",
       "max        11.000000\n",
       "Name: lineItemVoidsPerPosition, dtype: float64"
      ]
     },
     "execution_count": 31,
     "metadata": {},
     "output_type": "execute_result"
    },
    {
     "data": {
      "image/png": "[encoded data removed]",
      "text/plain": [
       "<Figure size 432x288 with 1 Axes>"
      ]
     },
     "metadata": {
      "needs_background": "light"
     },
     "output_type": "display_data"
    }
   ],
   "source": [
    "plt.boxplot(data_train['lineItemVoidsPerPosition'])\n",
    "data_train['lineItemVoidsPerPosition'].describe()"
   ]
  },
  {
   "cell_type": "code",
   "execution_count": 32,
   "metadata": {},
   "outputs": [
    {
     "data": {
      "text/plain": [
       "0.5066666666666669"
      ]
     },
     "execution_count": 32,
     "metadata": {},
     "output_type": "execute_result"
    }
   ],
   "source": [
    "Quartile_Bawah = np.percentile(data_train['lineItemVoidsPerPosition'],25)\n",
    "Quartile_Atas = np.percentile(data_train['lineItemVoidsPerPosition'],75)\n",
    "IQR = Quartile_Atas-Quartile_Bawah\n",
    "IQR"
   ]
  },
  {
   "cell_type": "code",
   "execution_count": 33,
   "metadata": {},
   "outputs": [
    {
     "data": {
      "text/plain": [
       "(1.4266666666666674, 0.9200000000000005)"
      ]
     },
     "execution_count": 33,
     "metadata": {},
     "output_type": "execute_result"
    }
   ],
   "source": [
    "Upper = Quartile_Atas+1.5*IQR\n",
    "Lower = Quartile_Bawah+1.5*IQR\n",
    "Upper,Lower"
   ]
  },
  {
   "cell_type": "code",
   "execution_count": 34,
   "metadata": {},
   "outputs": [
    {
     "data": {
      "text/plain": [
       "347"
      ]
     },
     "execution_count": 34,
     "metadata": {},
     "output_type": "execute_result"
    }
   ],
   "source": [
    "data_train[(data_train[\"lineItemVoidsPerPosition\"]>Upper) | (data_train[\"lineItemVoidsPerPosition\"]>Lower)].shape[0]"
   ]
  },
  {
   "cell_type": "code",
   "execution_count": 35,
   "metadata": {},
   "outputs": [
    {
     "data": {
      "text/plain": [
       "count    941.000000\n",
       "mean       0.370692\n",
       "std        0.138268\n",
       "min        0.160000\n",
       "25%        0.250000\n",
       "50%        0.350000\n",
       "75%        0.470588\n",
       "max        0.666667\n",
       "Name: lineItemVoidsPerPosition, dtype: float64"
      ]
     },
     "execution_count": 35,
     "metadata": {},
     "output_type": "execute_result"
    }
   ],
   "source": [
    "indexUpper= data_train[(data_train['lineItemVoidsPerPosition'] > data_train['lineItemVoidsPerPosition'].quantile(0.75))].index\n",
    "indexLower= data_train[(data_train['lineItemVoidsPerPosition'] < data_train['lineItemVoidsPerPosition'].quantile(0.25))].index\n",
    "data_train.drop(indexUpper, inplace=True)\n",
    "data_train.drop(indexLower, inplace=True)\n",
    "data_train['lineItemVoidsPerPosition'].describe()"
   ]
  },
  {
   "cell_type": "code",
   "execution_count": 36,
   "metadata": {},
   "outputs": [
    {
     "data": {
      "text/plain": [
       "{'whiskers': [<matplotlib.lines.Line2D at 0x1b2ba3a3648>,\n",
       "  <matplotlib.lines.Line2D at 0x1b2ba3a3748>],\n",
       " 'caps': [<matplotlib.lines.Line2D at 0x1b2ba381088>,\n",
       "  <matplotlib.lines.Line2D at 0x1b2ba381fc8>],\n",
       " 'boxes': [<matplotlib.lines.Line2D at 0x1b2ba3fccc8>],\n",
       " 'medians': [<matplotlib.lines.Line2D at 0x1b2ba38f608>],\n",
       " 'fliers': [<matplotlib.lines.Line2D at 0x1b2ba38f648>],\n",
       " 'means': []}"
      ]
     },
     "execution_count": 36,
     "metadata": {},
     "output_type": "execute_result"
    },
    {
     "data": {
      "image/png": "[encoded data removed]",
      "text/plain": [
       "<Figure size 432x288 with 1 Axes>"
      ]
     },
     "metadata": {
      "needs_background": "light"
     },
     "output_type": "display_data"
    }
   ],
   "source": [
    "plt.boxplot(data_train['lineItemVoidsPerPosition'])"
   ]
  },
  {
   "cell_type": "code",
   "execution_count": 37,
   "metadata": {},
   "outputs": [
    {
     "data": {
      "image/png": "[encoded data removed]",
      "text/plain": [
       "<Figure size 216x432 with 1 Axes>"
      ]
     },
     "metadata": {
      "needs_background": "light"
     },
     "output_type": "display_data"
    }
   ],
   "source": [
    "plt.figure(figsize=(3,6))\n",
    "sns.boxplot(y='scannedLineItemsPerSecond', data=data_train,showfliers=False);"
   ]
  },
  {
   "cell_type": "code",
   "execution_count": 38,
   "metadata": {},
   "outputs": [
    {
     "data": {
      "text/plain": [
       "count    941.000000\n",
       "mean       0.061576\n",
       "std        0.259335\n",
       "min        0.001325\n",
       "25%        0.012366\n",
       "50%        0.018975\n",
       "75%        0.036750\n",
       "max        4.833333\n",
       "Name: scannedLineItemsPerSecond, dtype: float64"
      ]
     },
     "execution_count": 38,
     "metadata": {},
     "output_type": "execute_result"
    },
    {
     "data": {
      "image/png": "[encoded data removed]",
      "text/plain": [
       "<Figure size 432x288 with 1 Axes>"
      ]
     },
     "metadata": {
      "needs_background": "light"
     },
     "output_type": "display_data"
    }
   ],
   "source": [
    "plt.boxplot(data_train['scannedLineItemsPerSecond'])\n",
    "data_train['scannedLineItemsPerSecond'].describe()"
   ]
  },
  {
   "cell_type": "code",
   "execution_count": 39,
   "metadata": {},
   "outputs": [
    {
     "data": {
      "text/plain": [
       "0.0243844489340973"
      ]
     },
     "execution_count": 39,
     "metadata": {},
     "output_type": "execute_result"
    }
   ],
   "source": [
    "Quartile_Bawah = np.percentile(data_train['scannedLineItemsPerSecond'],25)\n",
    "Quartile_Atas = np.percentile(data_train['scannedLineItemsPerSecond'],75)\n",
    "IQR = Quartile_Atas-Quartile_Bawah\n",
    "IQR"
   ]
  },
  {
   "cell_type": "code",
   "execution_count": 40,
   "metadata": {},
   "outputs": [
    {
     "data": {
      "text/plain": [
       "(0.07332715696014014, 0.04894270802604285)"
      ]
     },
     "execution_count": 40,
     "metadata": {},
     "output_type": "execute_result"
    }
   ],
   "source": [
    "Upper = Quartile_Atas+1.5*IQR\n",
    "Lower = Quartile_Bawah+1.5*IQR\n",
    "Upper,Lower"
   ]
  },
  {
   "cell_type": "code",
   "execution_count": 41,
   "metadata": {},
   "outputs": [
    {
     "data": {
      "text/plain": [
       "182"
      ]
     },
     "execution_count": 41,
     "metadata": {},
     "output_type": "execute_result"
    }
   ],
   "source": [
    "data_train[(data_train[\"scannedLineItemsPerSecond\"]>Upper) | (data_train[\"scannedLineItemsPerSecond\"]>Lower)].shape[0]"
   ]
  },
  {
   "cell_type": "code",
   "execution_count": 42,
   "metadata": {},
   "outputs": [
    {
     "data": {
      "text/plain": [
       "count    471.000000\n",
       "mean       0.020739\n",
       "std        0.006452\n",
       "min        0.012366\n",
       "25%        0.015374\n",
       "50%        0.018975\n",
       "75%        0.024894\n",
       "max        0.036750\n",
       "Name: scannedLineItemsPerSecond, dtype: float64"
      ]
     },
     "execution_count": 42,
     "metadata": {},
     "output_type": "execute_result"
    }
   ],
   "source": [
    "indexUpper= data_train[(data_train['scannedLineItemsPerSecond'] > data_train['scannedLineItemsPerSecond'].quantile(0.75))].index\n",
    "indexLower= data_train[(data_train['scannedLineItemsPerSecond'] < data_train['scannedLineItemsPerSecond'].quantile(0.25))].index\n",
    "data_train.drop(indexUpper, inplace=True)\n",
    "data_train.drop(indexLower, inplace=True)\n",
    "data_train['scannedLineItemsPerSecond'].describe()"
   ]
  },
  {
   "cell_type": "code",
   "execution_count": 43,
   "metadata": {},
   "outputs": [
    {
     "data": {
      "text/plain": [
       "{'whiskers': [<matplotlib.lines.Line2D at 0x1b2b9aa8cc8>,\n",
       "  <matplotlib.lines.Line2D at 0x1b2b2fc2608>],\n",
       " 'caps': [<matplotlib.lines.Line2D at 0x1b2b9ac21c8>,\n",
       "  <matplotlib.lines.Line2D at 0x1b2b9ab2588>],\n",
       " 'boxes': [<matplotlib.lines.Line2D at 0x1b2b9aa8448>],\n",
       " 'medians': [<matplotlib.lines.Line2D at 0x1b2b697c9c8>],\n",
       " 'fliers': [<matplotlib.lines.Line2D at 0x1b2b3e945c8>],\n",
       " 'means': []}"
      ]
     },
     "execution_count": 43,
     "metadata": {},
     "output_type": "execute_result"
    },
    {
     "data": {
      "image/png": "[encoded data removed]",
      "text/plain": [
       "<Figure size 432x288 with 1 Axes>"
      ]
     },
     "metadata": {
      "needs_background": "light"
     },
     "output_type": "display_data"
    }
   ],
   "source": [
    "plt.boxplot(data_train['scannedLineItemsPerSecond'])"
   ]
  },
  {
   "cell_type": "code",
   "execution_count": 44,
   "metadata": {},
   "outputs": [
    {
     "data": {
      "image/png": "[encoded data removed]",
      "text/plain": [
       "<Figure size 216x432 with 1 Axes>"
      ]
     },
     "metadata": {
      "needs_background": "light"
     },
     "output_type": "display_data"
    }
   ],
   "source": [
    "plt.figure(figsize=(3,6))\n",
    "sns.boxplot(y='valuePerSecond', data=data_train,showfliers=False);"
   ]
  },
  {
   "cell_type": "code",
   "execution_count": 45,
   "metadata": {},
   "outputs": [
    {
     "data": {
      "text/plain": [
       "count    471.000000\n",
       "mean       0.059035\n",
       "std        0.061591\n",
       "min        0.000551\n",
       "25%        0.024196\n",
       "50%        0.050065\n",
       "75%        0.076827\n",
       "max        0.914409\n",
       "Name: valuePerSecond, dtype: float64"
      ]
     },
     "execution_count": 45,
     "metadata": {},
     "output_type": "execute_result"
    },
    {
     "data": {
      "image/png": "[encoded data removed]",
      "text/plain": [
       "<Figure size 432x288 with 1 Axes>"
      ]
     },
     "metadata": {
      "needs_background": "light"
     },
     "output_type": "display_data"
    }
   ],
   "source": [
    "plt.boxplot(data_train['valuePerSecond'])\n",
    "data_train['valuePerSecond'].describe()"
   ]
  },
  {
   "cell_type": "code",
   "execution_count": 46,
   "metadata": {},
   "outputs": [
    {
     "data": {
      "text/plain": [
       "0.0526311567998757"
      ]
     },
     "execution_count": 46,
     "metadata": {},
     "output_type": "execute_result"
    }
   ],
   "source": [
    "Quartile_Bawah = np.percentile(data_train['valuePerSecond'],25)\n",
    "Quartile_Atas = np.percentile(data_train['valuePerSecond'],75)\n",
    "IQR = Quartile_Atas-Quartile_Bawah\n",
    "IQR"
   ]
  },
  {
   "cell_type": "code",
   "execution_count": 47,
   "metadata": {},
   "outputs": [
    {
     "data": {
      "text/plain": [
       "(0.15577408882188848, 0.1031429320220128)"
      ]
     },
     "execution_count": 47,
     "metadata": {},
     "output_type": "execute_result"
    }
   ],
   "source": [
    "Upper = Quartile_Atas+1.5*IQR\n",
    "Lower = Quartile_Bawah+1.5*IQR\n",
    "Upper,Lower"
   ]
  },
  {
   "cell_type": "code",
   "execution_count": 48,
   "metadata": {},
   "outputs": [
    {
     "data": {
      "text/plain": [
       "59"
      ]
     },
     "execution_count": 48,
     "metadata": {},
     "output_type": "execute_result"
    }
   ],
   "source": [
    "data_train[(data_train[\"valuePerSecond\"]>Upper) | (data_train[\"valuePerSecond\"]>Lower)].shape[0]"
   ]
  },
  {
   "cell_type": "code",
   "execution_count": 49,
   "metadata": {},
   "outputs": [
    {
     "data": {
      "text/plain": [
       "count    235.000000\n",
       "mean       0.050142\n",
       "std        0.014784\n",
       "min        0.024244\n",
       "25%        0.037605\n",
       "50%        0.050065\n",
       "75%        0.062852\n",
       "max        0.076819\n",
       "Name: valuePerSecond, dtype: float64"
      ]
     },
     "execution_count": 49,
     "metadata": {},
     "output_type": "execute_result"
    }
   ],
   "source": [
    "indexUpper= data_train[(data_train['valuePerSecond'] > data_train['valuePerSecond'].quantile(0.75))].index\n",
    "indexLower= data_train[(data_train['valuePerSecond'] < data_train['valuePerSecond'].quantile(0.25))].index\n",
    "data_train.drop(indexUpper, inplace=True)\n",
    "data_train.drop(indexLower, inplace=True)\n",
    "data_train['valuePerSecond'].describe()"
   ]
  },
  {
   "cell_type": "code",
   "execution_count": 50,
   "metadata": {},
   "outputs": [
    {
     "data": {
      "text/plain": [
       "{'whiskers': [<matplotlib.lines.Line2D at 0x1b2b97eba48>,\n",
       "  <matplotlib.lines.Line2D at 0x1b2b97ebe88>],\n",
       " 'caps': [<matplotlib.lines.Line2D at 0x1b2b9cb0548>,\n",
       "  <matplotlib.lines.Line2D at 0x1b2b3e9f488>],\n",
       " 'boxes': [<matplotlib.lines.Line2D at 0x1b2b97c4108>],\n",
       " 'medians': [<matplotlib.lines.Line2D at 0x1b2b937d788>],\n",
       " 'fliers': [<matplotlib.lines.Line2D at 0x1b2b937d508>],\n",
       " 'means': []}"
      ]
     },
     "execution_count": 50,
     "metadata": {},
     "output_type": "execute_result"
    },
    {
     "data": {
      "image/png": "[encoded data removed]",
      "text/plain": [
       "<Figure size 432x288 with 1 Axes>"
      ]
     },
     "metadata": {
      "needs_background": "light"
     },
     "output_type": "display_data"
    }
   ],
   "source": [
    "plt.boxplot(data_train['valuePerSecond'])"
   ]
  },
  {
   "cell_type": "code",
   "execution_count": 51,
   "metadata": {},
   "outputs": [
    {
     "data": {
      "image/png": "[encoded data removed]",
      "text/plain": [
       "<Figure size 216x432 with 1 Axes>"
      ]
     },
     "metadata": {
      "needs_background": "light"
     },
     "output_type": "display_data"
    }
   ],
   "source": [
    "plt.figure(figsize=(3,6))\n",
    "sns.boxplot(y='fraud', data=data_train,showfliers=False);"
   ]
  },
  {
   "cell_type": "code",
   "execution_count": 52,
   "metadata": {},
   "outputs": [
    {
     "data": {
      "text/plain": [
       "count    235.000000\n",
       "mean       0.131915\n",
       "std        0.339121\n",
       "min        0.000000\n",
       "25%        0.000000\n",
       "50%        0.000000\n",
       "75%        0.000000\n",
       "max        1.000000\n",
       "Name: fraud, dtype: float64"
      ]
     },
     "execution_count": 52,
     "metadata": {},
     "output_type": "execute_result"
    },
    {
     "data": {
      "image/png": "[encoded data removed]",
      "text/plain": [
       "<Figure size 432x288 with 1 Axes>"
      ]
     },
     "metadata": {
      "needs_background": "light"
     },
     "output_type": "display_data"
    }
   ],
   "source": [
    "plt.boxplot(data_train['fraud'])\n",
    "data_train['fraud'].describe()"
   ]
  },
  {
   "cell_type": "code",
   "execution_count": 53,
   "metadata": {},
   "outputs": [
    {
     "data": {
      "image/png": "[encoded data removed]",
      "text/plain": [
       "<Figure size 864x720 with 2 Axes>"
      ]
     },
     "metadata": {
      "needs_background": "light"
     },
     "output_type": "display_data"
    }
   ],
   "source": [
    "plt.figure(figsize=(12,10))  # on this line I just set the size of figure to 12 by 10.\n",
    "p=sns.heatmap(data_train.corr(), annot=True,cmap ='RdYlGn')  # seaborn has very simple solution for heatmap"
   ]
  },
  {
   "cell_type": "code",
   "execution_count": 75,
   "metadata": {},
   "outputs": [
    {
     "data": {
      "text/html": [
       "<div>\n",
       "<style scoped>\n",
       "    .dataframe tbody tr th:only-of-type {\n",
       "        vertical-align: middle;\n",
       "    }\n",
       "\n",
       "    .dataframe tbody tr th {\n",
       "        vertical-align: top;\n",
       "    }\n",
       "\n",
       "    .dataframe thead th {\n",
       "        text-align: right;\n",
       "    }\n",
       "</style>\n",
       "<table border=\"1\" class=\"dataframe\">\n",
       "  <thead>\n",
       "    <tr style=\"text-align: right;\">\n",
       "      <th></th>\n",
       "      <th>trustLevel</th>\n",
       "      <th>totalScanTimeInSeconds</th>\n",
       "      <th>grandTotal</th>\n",
       "      <th>lineItemVoids</th>\n",
       "      <th>scansWithoutRegistration</th>\n",
       "      <th>quantityModifications</th>\n",
       "      <th>scannedLineItemsPerSecond</th>\n",
       "      <th>valuePerSecond</th>\n",
       "      <th>lineItemVoidsPerPosition</th>\n",
       "      <th>fraud</th>\n",
       "    </tr>\n",
       "  </thead>\n",
       "  <tbody>\n",
       "    <tr>\n",
       "      <th>trustLevel</th>\n",
       "      <td>1.000000</td>\n",
       "      <td>-0.024948</td>\n",
       "      <td>0.103686</td>\n",
       "      <td>0.120705</td>\n",
       "      <td>0.132895</td>\n",
       "      <td>0.061527</td>\n",
       "      <td>0.007441</td>\n",
       "      <td>0.136289</td>\n",
       "      <td>0.113809</td>\n",
       "      <td>-0.514081</td>\n",
       "    </tr>\n",
       "    <tr>\n",
       "      <th>totalScanTimeInSeconds</th>\n",
       "      <td>-0.024948</td>\n",
       "      <td>1.000000</td>\n",
       "      <td>0.626141</td>\n",
       "      <td>0.107065</td>\n",
       "      <td>-0.008474</td>\n",
       "      <td>0.021292</td>\n",
       "      <td>-0.633287</td>\n",
       "      <td>-0.213530</td>\n",
       "      <td>-0.282647</td>\n",
       "      <td>0.251497</td>\n",
       "    </tr>\n",
       "    <tr>\n",
       "      <th>grandTotal</th>\n",
       "      <td>0.103686</td>\n",
       "      <td>0.626141</td>\n",
       "      <td>1.000000</td>\n",
       "      <td>0.071234</td>\n",
       "      <td>-0.023717</td>\n",
       "      <td>0.041304</td>\n",
       "      <td>-0.366228</td>\n",
       "      <td>0.599572</td>\n",
       "      <td>-0.207748</td>\n",
       "      <td>0.113001</td>\n",
       "    </tr>\n",
       "    <tr>\n",
       "      <th>lineItemVoids</th>\n",
       "      <td>0.120705</td>\n",
       "      <td>0.107065</td>\n",
       "      <td>0.071234</td>\n",
       "      <td>1.000000</td>\n",
       "      <td>-0.003910</td>\n",
       "      <td>0.014895</td>\n",
       "      <td>0.147232</td>\n",
       "      <td>-0.000919</td>\n",
       "      <td>0.726872</td>\n",
       "      <td>0.043623</td>\n",
       "    </tr>\n",
       "    <tr>\n",
       "      <th>scansWithoutRegistration</th>\n",
       "      <td>0.132895</td>\n",
       "      <td>-0.008474</td>\n",
       "      <td>-0.023717</td>\n",
       "      <td>-0.003910</td>\n",
       "      <td>1.000000</td>\n",
       "      <td>0.026107</td>\n",
       "      <td>-0.003432</td>\n",
       "      <td>-0.012548</td>\n",
       "      <td>0.030141</td>\n",
       "      <td>0.024787</td>\n",
       "    </tr>\n",
       "    <tr>\n",
       "      <th>quantityModifications</th>\n",
       "      <td>0.061527</td>\n",
       "      <td>0.021292</td>\n",
       "      <td>0.041304</td>\n",
       "      <td>0.014895</td>\n",
       "      <td>0.026107</td>\n",
       "      <td>1.000000</td>\n",
       "      <td>0.019430</td>\n",
       "      <td>0.010825</td>\n",
       "      <td>-0.037809</td>\n",
       "      <td>0.006964</td>\n",
       "    </tr>\n",
       "    <tr>\n",
       "      <th>scannedLineItemsPerSecond</th>\n",
       "      <td>0.007441</td>\n",
       "      <td>-0.633287</td>\n",
       "      <td>-0.366228</td>\n",
       "      <td>0.147232</td>\n",
       "      <td>-0.003432</td>\n",
       "      <td>0.019430</td>\n",
       "      <td>1.000000</td>\n",
       "      <td>0.184138</td>\n",
       "      <td>-0.028249</td>\n",
       "      <td>-0.026117</td>\n",
       "    </tr>\n",
       "    <tr>\n",
       "      <th>valuePerSecond</th>\n",
       "      <td>0.136289</td>\n",
       "      <td>-0.213530</td>\n",
       "      <td>0.599572</td>\n",
       "      <td>-0.000919</td>\n",
       "      <td>-0.012548</td>\n",
       "      <td>0.010825</td>\n",
       "      <td>0.184138</td>\n",
       "      <td>1.000000</td>\n",
       "      <td>0.048441</td>\n",
       "      <td>-0.092386</td>\n",
       "    </tr>\n",
       "    <tr>\n",
       "      <th>lineItemVoidsPerPosition</th>\n",
       "      <td>0.113809</td>\n",
       "      <td>-0.282647</td>\n",
       "      <td>-0.207748</td>\n",
       "      <td>0.726872</td>\n",
       "      <td>0.030141</td>\n",
       "      <td>-0.037809</td>\n",
       "      <td>-0.028249</td>\n",
       "      <td>0.048441</td>\n",
       "      <td>1.000000</td>\n",
       "      <td>-0.146879</td>\n",
       "    </tr>\n",
       "    <tr>\n",
       "      <th>fraud</th>\n",
       "      <td>-0.514081</td>\n",
       "      <td>0.251497</td>\n",
       "      <td>0.113001</td>\n",
       "      <td>0.043623</td>\n",
       "      <td>0.024787</td>\n",
       "      <td>0.006964</td>\n",
       "      <td>-0.026117</td>\n",
       "      <td>-0.092386</td>\n",
       "      <td>-0.146879</td>\n",
       "      <td>1.000000</td>\n",
       "    </tr>\n",
       "  </tbody>\n",
       "</table>\n",
       "</div>"
      ],
      "text/plain": [
       "                           trustLevel  totalScanTimeInSeconds  grandTotal  \\\n",
       "trustLevel                   1.000000               -0.024948    0.103686   \n",
       "totalScanTimeInSeconds      -0.024948                1.000000    0.626141   \n",
       "grandTotal                   0.103686                0.626141    1.000000   \n",
       "lineItemVoids                0.120705                0.107065    0.071234   \n",
       "scansWithoutRegistration     0.132895               -0.008474   -0.023717   \n",
       "quantityModifications        0.061527                0.021292    0.041304   \n",
       "scannedLineItemsPerSecond    0.007441               -0.633287   -0.366228   \n",
       "valuePerSecond               0.136289               -0.213530    0.599572   \n",
       "lineItemVoidsPerPosition     0.113809               -0.282647   -0.207748   \n",
       "fraud                       -0.514081                0.251497    0.113001   \n",
       "\n",
       "                           lineItemVoids  scansWithoutRegistration  \\\n",
       "trustLevel                      0.120705                  0.132895   \n",
       "totalScanTimeInSeconds          0.107065                 -0.008474   \n",
       "grandTotal                      0.071234                 -0.023717   \n",
       "lineItemVoids                   1.000000                 -0.003910   \n",
       "scansWithoutRegistration       -0.003910                  1.000000   \n",
       "quantityModifications           0.014895                  0.026107   \n",
       "scannedLineItemsPerSecond       0.147232                 -0.003432   \n",
       "valuePerSecond                 -0.000919                 -0.012548   \n",
       "lineItemVoidsPerPosition        0.726872                  0.030141   \n",
       "fraud                           0.043623                  0.024787   \n",
       "\n",
       "                           quantityModifications  scannedLineItemsPerSecond  \\\n",
       "trustLevel                              0.061527                   0.007441   \n",
       "totalScanTimeInSeconds                  0.021292                  -0.633287   \n",
       "grandTotal                              0.041304                  -0.366228   \n",
       "lineItemVoids                           0.014895                   0.147232   \n",
       "scansWithoutRegistration                0.026107                  -0.003432   \n",
       "quantityModifications                   1.000000                   0.019430   \n",
       "scannedLineItemsPerSecond               0.019430                   1.000000   \n",
       "valuePerSecond                          0.010825                   0.184138   \n",
       "lineItemVoidsPerPosition               -0.037809                  -0.028249   \n",
       "fraud                                   0.006964                  -0.026117   \n",
       "\n",
       "                           valuePerSecond  lineItemVoidsPerPosition     fraud  \n",
       "trustLevel                       0.136289                  0.113809 -0.514081  \n",
       "totalScanTimeInSeconds          -0.213530                 -0.282647  0.251497  \n",
       "grandTotal                       0.599572                 -0.207748  0.113001  \n",
       "lineItemVoids                   -0.000919                  0.726872  0.043623  \n",
       "scansWithoutRegistration        -0.012548                  0.030141  0.024787  \n",
       "quantityModifications            0.010825                 -0.037809  0.006964  \n",
       "scannedLineItemsPerSecond        0.184138                 -0.028249 -0.026117  \n",
       "valuePerSecond                   1.000000                  0.048441 -0.092386  \n",
       "lineItemVoidsPerPosition         0.048441                  1.000000 -0.146879  \n",
       "fraud                           -0.092386                 -0.146879  1.000000  "
      ]
     },
     "execution_count": 75,
     "metadata": {},
     "output_type": "execute_result"
    }
   ],
   "source": [
    "data_train.corr()"
   ]
  },
  {
   "cell_type": "code",
   "execution_count": 74,
   "metadata": {},
   "outputs": [
    {
     "data": {
      "text/plain": [
       "trustLevel                   0.349842\n",
       "totalScanTimeInSeconds       0.145916\n",
       "grandTotal                   0.124942\n",
       "valuePerSecond               0.101868\n",
       "scannedLineItemsPerSecond    0.089816\n",
       "lineItemVoidsPerPosition     0.057838\n",
       "scansWithoutRegistration     0.047446\n",
       "lineItemVoids                0.044251\n",
       "quantityModifications        0.038080\n",
       "dtype: float64"
      ]
     },
     "execution_count": 74,
     "metadata": {},
     "output_type": "execute_result"
    }
   ],
   "source": [
    "from sklearn.ensemble import RandomForestClassifier \n",
    "model= RandomForestClassifier(n_estimators=100,random_state=0)\n",
    "X=data_train[data_train.columns[:9]]\n",
    "Y=data_train['fraud']\n",
    "model.fit(X,Y)\n",
    "pd.Series(model.feature_importances_,index=X.columns).sort_values(ascending=False)"
   ]
  },
  {
   "cell_type": "code",
   "execution_count": 54,
   "metadata": {},
   "outputs": [],
   "source": [
    "from sklearn.preprocessing import StandardScaler\n",
    "sc_X = StandardScaler()\n",
    "X =  pd.DataFrame(sc_X.fit_transform(data_train.drop([\"fraud\"],axis = 1),),\n",
    "        columns=['trustLevel', 'scannedLineItemsPerSecond','totalScanTimeInSeconds',\"quantityModifications\",\"scansWithoutRegistration\",\"lineItemVoids\",\"grandTotal\",\"valuePerSecond\",\"lineItemVoidsPerPosition\"])"
   ]
  },
  {
   "cell_type": "markdown",
   "metadata": {},
   "source": [
    "Normalisasi"
   ]
  },
  {
   "cell_type": "markdown",
   "metadata": {},
   "source": [
    "Normalisasi data dilakukan untuk penskalaan nilai atribut dari data sehingga nilai data berada pada range tertentu. Teknik normalisasi yang dilakukan adalah Minmax. Minmax merupakan metode normalisasi dengan melakukan transformasi linier terhadap data asli."
   ]
  },
  {
   "cell_type": "code",
   "execution_count": 55,
   "metadata": {},
   "outputs": [],
   "source": [
    "def normalisasi(X_train_, X_test_):\n",
    "  scaler = MinMaxScaler()\n",
    "  X_train_minmax = scaler.fit_transform(X_train_)\n",
    "  X_train_ = pd.DataFrame(X_train_minmax, columns=X_train_.columns)\n",
    "  X_test_minmax = scaler.transform(X_test_)\n",
    "  X_test_ = pd.DataFrame(X_test_minmax, columns=X_test_.columns)\n",
    "  return X_train_,X_test_"
   ]
  },
  {
   "cell_type": "code",
   "execution_count": 56,
   "metadata": {},
   "outputs": [
    {
     "data": {
      "text/html": [
       "<div>\n",
       "<style scoped>\n",
       "    .dataframe tbody tr th:only-of-type {\n",
       "        vertical-align: middle;\n",
       "    }\n",
       "\n",
       "    .dataframe tbody tr th {\n",
       "        vertical-align: top;\n",
       "    }\n",
       "\n",
       "    .dataframe thead th {\n",
       "        text-align: right;\n",
       "    }\n",
       "</style>\n",
       "<table border=\"1\" class=\"dataframe\">\n",
       "  <thead>\n",
       "    <tr style=\"text-align: right;\">\n",
       "      <th></th>\n",
       "      <th>trustLevel</th>\n",
       "      <th>scannedLineItemsPerSecond</th>\n",
       "      <th>totalScanTimeInSeconds</th>\n",
       "      <th>quantityModifications</th>\n",
       "      <th>scansWithoutRegistration</th>\n",
       "      <th>lineItemVoids</th>\n",
       "      <th>grandTotal</th>\n",
       "      <th>valuePerSecond</th>\n",
       "      <th>lineItemVoidsPerPosition</th>\n",
       "    </tr>\n",
       "  </thead>\n",
       "  <tbody>\n",
       "    <tr>\n",
       "      <th>0</th>\n",
       "      <td>0.819430</td>\n",
       "      <td>-0.353276</td>\n",
       "      <td>-0.146207</td>\n",
       "      <td>-0.176217</td>\n",
       "      <td>-1.440957</td>\n",
       "      <td>0.340792</td>\n",
       "      <td>1.350183</td>\n",
       "      <td>0.119028</td>\n",
       "      <td>-0.834980</td>\n",
       "    </tr>\n",
       "    <tr>\n",
       "      <th>1</th>\n",
       "      <td>1.390843</td>\n",
       "      <td>1.798119</td>\n",
       "      <td>1.605992</td>\n",
       "      <td>0.229773</td>\n",
       "      <td>-0.163127</td>\n",
       "      <td>0.896947</td>\n",
       "      <td>-0.617589</td>\n",
       "      <td>0.094864</td>\n",
       "      <td>-0.575246</td>\n",
       "    </tr>\n",
       "    <tr>\n",
       "      <th>2</th>\n",
       "      <td>1.390843</td>\n",
       "      <td>-0.621836</td>\n",
       "      <td>0.354155</td>\n",
       "      <td>-0.176217</td>\n",
       "      <td>-1.440957</td>\n",
       "      <td>-0.215362</td>\n",
       "      <td>1.446171</td>\n",
       "      <td>1.212218</td>\n",
       "      <td>-0.700303</td>\n",
       "    </tr>\n",
       "    <tr>\n",
       "      <th>3</th>\n",
       "      <td>0.248017</td>\n",
       "      <td>-1.199823</td>\n",
       "      <td>-1.344467</td>\n",
       "      <td>0.229773</td>\n",
       "      <td>-1.440957</td>\n",
       "      <td>-1.327670</td>\n",
       "      <td>1.117950</td>\n",
       "      <td>-0.827623</td>\n",
       "      <td>0.359796</td>\n",
       "    </tr>\n",
       "    <tr>\n",
       "      <th>4</th>\n",
       "      <td>-0.323395</td>\n",
       "      <td>0.350233</td>\n",
       "      <td>-0.695953</td>\n",
       "      <td>1.447744</td>\n",
       "      <td>1.753618</td>\n",
       "      <td>-1.327670</td>\n",
       "      <td>-0.479185</td>\n",
       "      <td>-1.153296</td>\n",
       "      <td>1.113025</td>\n",
       "    </tr>\n",
       "  </tbody>\n",
       "</table>\n",
       "</div>"
      ],
      "text/plain": [
       "   trustLevel  scannedLineItemsPerSecond  totalScanTimeInSeconds  \\\n",
       "0    0.819430                  -0.353276               -0.146207   \n",
       "1    1.390843                   1.798119                1.605992   \n",
       "2    1.390843                  -0.621836                0.354155   \n",
       "3    0.248017                  -1.199823               -1.344467   \n",
       "4   -0.323395                   0.350233               -0.695953   \n",
       "\n",
       "   quantityModifications  scansWithoutRegistration  lineItemVoids  grandTotal  \\\n",
       "0              -0.176217                 -1.440957       0.340792    1.350183   \n",
       "1               0.229773                 -0.163127       0.896947   -0.617589   \n",
       "2              -0.176217                 -1.440957      -0.215362    1.446171   \n",
       "3               0.229773                 -1.440957      -1.327670    1.117950   \n",
       "4               1.447744                  1.753618      -1.327670   -0.479185   \n",
       "\n",
       "   valuePerSecond  lineItemVoidsPerPosition  \n",
       "0        0.119028                 -0.834980  \n",
       "1        0.094864                 -0.575246  \n",
       "2        1.212218                 -0.700303  \n",
       "3       -0.827623                  0.359796  \n",
       "4       -1.153296                  1.113025  "
      ]
     },
     "execution_count": 56,
     "metadata": {},
     "output_type": "execute_result"
    }
   ],
   "source": [
    "X.head()"
   ]
  },
  {
   "cell_type": "code",
   "execution_count": 57,
   "metadata": {},
   "outputs": [],
   "source": [
    "y = data_train.fraud"
   ]
  },
  {
   "cell_type": "code",
   "execution_count": 58,
   "metadata": {},
   "outputs": [],
   "source": [
    "#importing train_test_split\n",
    "from sklearn.model_selection import train_test_split\n",
    "X_train,X_test,y_train,y_test = train_test_split(X,y,test_size=0.20,random_state=0, stratify=y)"
   ]
  },
  {
   "cell_type": "code",
   "execution_count": 59,
   "metadata": {},
   "outputs": [
    {
     "data": {
      "text/html": [
       "<div>\n",
       "<style scoped>\n",
       "    .dataframe tbody tr th:only-of-type {\n",
       "        vertical-align: middle;\n",
       "    }\n",
       "\n",
       "    .dataframe tbody tr th {\n",
       "        vertical-align: top;\n",
       "    }\n",
       "\n",
       "    .dataframe thead th {\n",
       "        text-align: right;\n",
       "    }\n",
       "</style>\n",
       "<table border=\"1\" class=\"dataframe\">\n",
       "  <thead>\n",
       "    <tr style=\"text-align: right;\">\n",
       "      <th></th>\n",
       "      <th>trustLevel</th>\n",
       "      <th>scannedLineItemsPerSecond</th>\n",
       "      <th>totalScanTimeInSeconds</th>\n",
       "      <th>quantityModifications</th>\n",
       "      <th>scansWithoutRegistration</th>\n",
       "      <th>lineItemVoids</th>\n",
       "      <th>grandTotal</th>\n",
       "      <th>valuePerSecond</th>\n",
       "      <th>lineItemVoidsPerPosition</th>\n",
       "    </tr>\n",
       "  </thead>\n",
       "  <tbody>\n",
       "    <tr>\n",
       "      <th>90</th>\n",
       "      <td>0.819430</td>\n",
       "      <td>0.102107</td>\n",
       "      <td>-1.110592</td>\n",
       "      <td>0.229773</td>\n",
       "      <td>-0.802042</td>\n",
       "      <td>-0.771516</td>\n",
       "      <td>-0.989949</td>\n",
       "      <td>-1.494133</td>\n",
       "      <td>0.891487</td>\n",
       "    </tr>\n",
       "    <tr>\n",
       "      <th>63</th>\n",
       "      <td>-0.323395</td>\n",
       "      <td>0.043725</td>\n",
       "      <td>0.089531</td>\n",
       "      <td>-0.582207</td>\n",
       "      <td>0.156330</td>\n",
       "      <td>0.896947</td>\n",
       "      <td>0.219481</td>\n",
       "      <td>0.005215</td>\n",
       "      <td>-0.845370</td>\n",
       "    </tr>\n",
       "    <tr>\n",
       "      <th>48</th>\n",
       "      <td>-0.323395</td>\n",
       "      <td>-0.362034</td>\n",
       "      <td>-1.472120</td>\n",
       "      <td>1.447744</td>\n",
       "      <td>-1.121500</td>\n",
       "      <td>0.340792</td>\n",
       "      <td>0.867739</td>\n",
       "      <td>-1.706466</td>\n",
       "      <td>0.533618</td>\n",
       "    </tr>\n",
       "    <tr>\n",
       "      <th>16</th>\n",
       "      <td>0.819430</td>\n",
       "      <td>0.154652</td>\n",
       "      <td>1.308757</td>\n",
       "      <td>1.447744</td>\n",
       "      <td>-1.440957</td>\n",
       "      <td>-0.771516</td>\n",
       "      <td>-0.601152</td>\n",
       "      <td>1.344440</td>\n",
       "      <td>1.489639</td>\n",
       "    </tr>\n",
       "    <tr>\n",
       "      <th>177</th>\n",
       "      <td>1.390843</td>\n",
       "      <td>-1.532603</td>\n",
       "      <td>-1.176748</td>\n",
       "      <td>0.635764</td>\n",
       "      <td>-0.482585</td>\n",
       "      <td>-1.327670</td>\n",
       "      <td>1.648514</td>\n",
       "      <td>-0.001252</td>\n",
       "      <td>0.914807</td>\n",
       "    </tr>\n",
       "    <tr>\n",
       "      <th>...</th>\n",
       "      <td>...</td>\n",
       "      <td>...</td>\n",
       "      <td>...</td>\n",
       "      <td>...</td>\n",
       "      <td>...</td>\n",
       "      <td>...</td>\n",
       "      <td>...</td>\n",
       "      <td>...</td>\n",
       "      <td>...</td>\n",
       "    </tr>\n",
       "    <tr>\n",
       "      <th>180</th>\n",
       "      <td>-1.466220</td>\n",
       "      <td>-0.367872</td>\n",
       "      <td>-0.811959</td>\n",
       "      <td>-0.988198</td>\n",
       "      <td>1.114703</td>\n",
       "      <td>1.453101</td>\n",
       "      <td>-1.112223</td>\n",
       "      <td>-0.787599</td>\n",
       "      <td>0.036984</td>\n",
       "    </tr>\n",
       "    <tr>\n",
       "      <th>187</th>\n",
       "      <td>1.390843</td>\n",
       "      <td>-1.850788</td>\n",
       "      <td>-1.405498</td>\n",
       "      <td>1.041754</td>\n",
       "      <td>1.114703</td>\n",
       "      <td>1.453101</td>\n",
       "      <td>1.387063</td>\n",
       "      <td>0.068088</td>\n",
       "      <td>2.368406</td>\n",
       "    </tr>\n",
       "    <tr>\n",
       "      <th>26</th>\n",
       "      <td>0.819430</td>\n",
       "      <td>-1.100572</td>\n",
       "      <td>-0.711327</td>\n",
       "      <td>1.447744</td>\n",
       "      <td>0.475788</td>\n",
       "      <td>0.896947</td>\n",
       "      <td>2.666442</td>\n",
       "      <td>0.217203</td>\n",
       "      <td>0.305994</td>\n",
       "    </tr>\n",
       "    <tr>\n",
       "      <th>65</th>\n",
       "      <td>-0.894808</td>\n",
       "      <td>0.753072</td>\n",
       "      <td>0.322475</td>\n",
       "      <td>-1.394188</td>\n",
       "      <td>1.434160</td>\n",
       "      <td>-0.771516</td>\n",
       "      <td>-1.006086</td>\n",
       "      <td>-0.335510</td>\n",
       "      <td>-1.146661</td>\n",
       "    </tr>\n",
       "    <tr>\n",
       "      <th>111</th>\n",
       "      <td>1.390843</td>\n",
       "      <td>0.049563</td>\n",
       "      <td>-0.306472</td>\n",
       "      <td>1.447744</td>\n",
       "      <td>-1.440957</td>\n",
       "      <td>-1.327670</td>\n",
       "      <td>0.650767</td>\n",
       "      <td>-0.483859</td>\n",
       "      <td>0.305994</td>\n",
       "    </tr>\n",
       "  </tbody>\n",
       "</table>\n",
       "<p>188 rows × 9 columns</p>\n",
       "</div>"
      ],
      "text/plain": [
       "     trustLevel  scannedLineItemsPerSecond  totalScanTimeInSeconds  \\\n",
       "90     0.819430                   0.102107               -1.110592   \n",
       "63    -0.323395                   0.043725                0.089531   \n",
       "48    -0.323395                  -0.362034               -1.472120   \n",
       "16     0.819430                   0.154652                1.308757   \n",
       "177    1.390843                  -1.532603               -1.176748   \n",
       "..          ...                        ...                     ...   \n",
       "180   -1.466220                  -0.367872               -0.811959   \n",
       "187    1.390843                  -1.850788               -1.405498   \n",
       "26     0.819430                  -1.100572               -0.711327   \n",
       "65    -0.894808                   0.753072                0.322475   \n",
       "111    1.390843                   0.049563               -0.306472   \n",
       "\n",
       "     quantityModifications  scansWithoutRegistration  lineItemVoids  \\\n",
       "90                0.229773                 -0.802042      -0.771516   \n",
       "63               -0.582207                  0.156330       0.896947   \n",
       "48                1.447744                 -1.121500       0.340792   \n",
       "16                1.447744                 -1.440957      -0.771516   \n",
       "177               0.635764                 -0.482585      -1.327670   \n",
       "..                     ...                       ...            ...   \n",
       "180              -0.988198                  1.114703       1.453101   \n",
       "187               1.041754                  1.114703       1.453101   \n",
       "26                1.447744                  0.475788       0.896947   \n",
       "65               -1.394188                  1.434160      -0.771516   \n",
       "111               1.447744                 -1.440957      -1.327670   \n",
       "\n",
       "     grandTotal  valuePerSecond  lineItemVoidsPerPosition  \n",
       "90    -0.989949       -1.494133                  0.891487  \n",
       "63     0.219481        0.005215                 -0.845370  \n",
       "48     0.867739       -1.706466                  0.533618  \n",
       "16    -0.601152        1.344440                  1.489639  \n",
       "177    1.648514       -0.001252                  0.914807  \n",
       "..          ...             ...                       ...  \n",
       "180   -1.112223       -0.787599                  0.036984  \n",
       "187    1.387063        0.068088                  2.368406  \n",
       "26     2.666442        0.217203                  0.305994  \n",
       "65    -1.006086       -0.335510                 -1.146661  \n",
       "111    0.650767       -0.483859                  0.305994  \n",
       "\n",
       "[188 rows x 9 columns]"
      ]
     },
     "execution_count": 59,
     "metadata": {},
     "output_type": "execute_result"
    }
   ],
   "source": [
    "X_train"
   ]
  },
  {
   "cell_type": "code",
   "execution_count": 60,
   "metadata": {},
   "outputs": [
    {
     "data": {
      "text/plain": [
       "(188, 9)"
      ]
     },
     "execution_count": 60,
     "metadata": {},
     "output_type": "execute_result"
    }
   ],
   "source": [
    "X_train.shape"
   ]
  },
  {
   "cell_type": "code",
   "execution_count": 61,
   "metadata": {},
   "outputs": [
    {
     "data": {
      "text/html": [
       "<div>\n",
       "<style scoped>\n",
       "    .dataframe tbody tr th:only-of-type {\n",
       "        vertical-align: middle;\n",
       "    }\n",
       "\n",
       "    .dataframe tbody tr th {\n",
       "        vertical-align: top;\n",
       "    }\n",
       "\n",
       "    .dataframe thead th {\n",
       "        text-align: right;\n",
       "    }\n",
       "</style>\n",
       "<table border=\"1\" class=\"dataframe\">\n",
       "  <thead>\n",
       "    <tr style=\"text-align: right;\">\n",
       "      <th></th>\n",
       "      <th>trustLevel</th>\n",
       "      <th>scannedLineItemsPerSecond</th>\n",
       "      <th>totalScanTimeInSeconds</th>\n",
       "      <th>quantityModifications</th>\n",
       "      <th>scansWithoutRegistration</th>\n",
       "      <th>lineItemVoids</th>\n",
       "      <th>grandTotal</th>\n",
       "      <th>valuePerSecond</th>\n",
       "      <th>lineItemVoidsPerPosition</th>\n",
       "    </tr>\n",
       "  </thead>\n",
       "  <tbody>\n",
       "    <tr>\n",
       "      <th>192</th>\n",
       "      <td>0.819430</td>\n",
       "      <td>1.322302</td>\n",
       "      <td>0.645334</td>\n",
       "      <td>1.041754</td>\n",
       "      <td>-0.163127</td>\n",
       "      <td>0.896947</td>\n",
       "      <td>-0.762850</td>\n",
       "      <td>-0.413887</td>\n",
       "      <td>0.359796</td>\n",
       "    </tr>\n",
       "    <tr>\n",
       "      <th>70</th>\n",
       "      <td>-1.466220</td>\n",
       "      <td>0.665499</td>\n",
       "      <td>0.085804</td>\n",
       "      <td>-1.394188</td>\n",
       "      <td>-1.121500</td>\n",
       "      <td>-0.771516</td>\n",
       "      <td>-1.078095</td>\n",
       "      <td>-0.515443</td>\n",
       "      <td>-1.067374</td>\n",
       "    </tr>\n",
       "    <tr>\n",
       "      <th>47</th>\n",
       "      <td>-0.894808</td>\n",
       "      <td>-0.837851</td>\n",
       "      <td>-1.463268</td>\n",
       "      <td>0.635764</td>\n",
       "      <td>-0.802042</td>\n",
       "      <td>-0.771516</td>\n",
       "      <td>0.482633</td>\n",
       "      <td>-1.381316</td>\n",
       "      <td>0.736410</td>\n",
       "    </tr>\n",
       "    <tr>\n",
       "      <th>133</th>\n",
       "      <td>0.819430</td>\n",
       "      <td>-1.068462</td>\n",
       "      <td>-0.644240</td>\n",
       "      <td>-0.988198</td>\n",
       "      <td>1.114703</td>\n",
       "      <td>-1.327670</td>\n",
       "      <td>-0.638940</td>\n",
       "      <td>0.288691</td>\n",
       "      <td>0.243915</td>\n",
       "    </tr>\n",
       "    <tr>\n",
       "      <th>43</th>\n",
       "      <td>-0.323395</td>\n",
       "      <td>-1.696074</td>\n",
       "      <td>-1.224734</td>\n",
       "      <td>-0.582207</td>\n",
       "      <td>1.753618</td>\n",
       "      <td>0.896947</td>\n",
       "      <td>1.249692</td>\n",
       "      <td>0.201518</td>\n",
       "      <td>0.171489</td>\n",
       "    </tr>\n",
       "    <tr>\n",
       "      <th>185</th>\n",
       "      <td>-0.894808</td>\n",
       "      <td>1.360250</td>\n",
       "      <td>-0.302745</td>\n",
       "      <td>1.041754</td>\n",
       "      <td>0.475788</td>\n",
       "      <td>-0.215362</td>\n",
       "      <td>-0.783993</td>\n",
       "      <td>-1.278129</td>\n",
       "      <td>0.359796</td>\n",
       "    </tr>\n",
       "    <tr>\n",
       "      <th>99</th>\n",
       "      <td>0.819430</td>\n",
       "      <td>0.213034</td>\n",
       "      <td>0.030830</td>\n",
       "      <td>0.635764</td>\n",
       "      <td>0.156330</td>\n",
       "      <td>0.340792</td>\n",
       "      <td>0.746100</td>\n",
       "      <td>-0.221422</td>\n",
       "      <td>-0.393432</td>\n",
       "    </tr>\n",
       "    <tr>\n",
       "      <th>226</th>\n",
       "      <td>-0.894808</td>\n",
       "      <td>0.834808</td>\n",
       "      <td>-0.839446</td>\n",
       "      <td>-0.582207</td>\n",
       "      <td>1.434160</td>\n",
       "      <td>-0.771516</td>\n",
       "      <td>-0.457782</td>\n",
       "      <td>-1.551334</td>\n",
       "      <td>-0.845370</td>\n",
       "    </tr>\n",
       "    <tr>\n",
       "      <th>146</th>\n",
       "      <td>-1.466220</td>\n",
       "      <td>-0.980888</td>\n",
       "      <td>-0.749530</td>\n",
       "      <td>1.041754</td>\n",
       "      <td>-0.802042</td>\n",
       "      <td>-0.215362</td>\n",
       "      <td>2.575587</td>\n",
       "      <td>-0.025753</td>\n",
       "      <td>-0.055778</td>\n",
       "    </tr>\n",
       "    <tr>\n",
       "      <th>222</th>\n",
       "      <td>1.390843</td>\n",
       "      <td>-0.904991</td>\n",
       "      <td>-1.211224</td>\n",
       "      <td>1.041754</td>\n",
       "      <td>0.795245</td>\n",
       "      <td>0.340792</td>\n",
       "      <td>-0.417900</td>\n",
       "      <td>-0.903724</td>\n",
       "      <td>2.368406</td>\n",
       "    </tr>\n",
       "    <tr>\n",
       "      <th>11</th>\n",
       "      <td>-1.466220</td>\n",
       "      <td>0.872756</td>\n",
       "      <td>0.130530</td>\n",
       "      <td>0.635764</td>\n",
       "      <td>-1.440957</td>\n",
       "      <td>1.453101</td>\n",
       "      <td>-1.191466</td>\n",
       "      <td>-0.610183</td>\n",
       "      <td>0.914807</td>\n",
       "    </tr>\n",
       "    <tr>\n",
       "      <th>82</th>\n",
       "      <td>0.819430</td>\n",
       "      <td>0.440726</td>\n",
       "      <td>0.728262</td>\n",
       "      <td>-0.988198</td>\n",
       "      <td>-1.121500</td>\n",
       "      <td>0.896947</td>\n",
       "      <td>-0.286073</td>\n",
       "      <td>0.356932</td>\n",
       "      <td>-1.083892</td>\n",
       "    </tr>\n",
       "    <tr>\n",
       "      <th>118</th>\n",
       "      <td>-0.323395</td>\n",
       "      <td>-1.777810</td>\n",
       "      <td>-0.821277</td>\n",
       "      <td>0.229773</td>\n",
       "      <td>-1.440957</td>\n",
       "      <td>1.453101</td>\n",
       "      <td>1.174218</td>\n",
       "      <td>1.416755</td>\n",
       "      <td>1.364101</td>\n",
       "    </tr>\n",
       "    <tr>\n",
       "      <th>93</th>\n",
       "      <td>-0.323395</td>\n",
       "      <td>0.081673</td>\n",
       "      <td>-1.226598</td>\n",
       "      <td>0.635764</td>\n",
       "      <td>-1.121500</td>\n",
       "      <td>0.896947</td>\n",
       "      <td>-0.831270</td>\n",
       "      <td>-1.623352</td>\n",
       "      <td>1.113025</td>\n",
       "    </tr>\n",
       "    <tr>\n",
       "      <th>200</th>\n",
       "      <td>-0.894808</td>\n",
       "      <td>-0.613078</td>\n",
       "      <td>0.310828</td>\n",
       "      <td>-0.988198</td>\n",
       "      <td>-1.121500</td>\n",
       "      <td>1.453101</td>\n",
       "      <td>-0.189910</td>\n",
       "      <td>1.132557</td>\n",
       "      <td>-0.560817</td>\n",
       "    </tr>\n",
       "    <tr>\n",
       "      <th>101</th>\n",
       "      <td>0.819430</td>\n",
       "      <td>-1.071381</td>\n",
       "      <td>-0.241714</td>\n",
       "      <td>1.041754</td>\n",
       "      <td>0.156330</td>\n",
       "      <td>0.340792</td>\n",
       "      <td>-0.205290</td>\n",
       "      <td>1.018079</td>\n",
       "      <td>2.368406</td>\n",
       "    </tr>\n",
       "    <tr>\n",
       "      <th>197</th>\n",
       "      <td>-0.894808</td>\n",
       "      <td>0.227630</td>\n",
       "      <td>-0.811027</td>\n",
       "      <td>-1.394188</td>\n",
       "      <td>0.475788</td>\n",
       "      <td>-0.771516</td>\n",
       "      <td>-0.518922</td>\n",
       "      <td>-1.211648</td>\n",
       "      <td>-1.218397</td>\n",
       "    </tr>\n",
       "    <tr>\n",
       "      <th>145</th>\n",
       "      <td>-0.323395</td>\n",
       "      <td>0.443645</td>\n",
       "      <td>0.419379</td>\n",
       "      <td>1.041754</td>\n",
       "      <td>-1.121500</td>\n",
       "      <td>-0.215362</td>\n",
       "      <td>-1.205239</td>\n",
       "      <td>0.015435</td>\n",
       "      <td>1.777638</td>\n",
       "    </tr>\n",
       "    <tr>\n",
       "      <th>25</th>\n",
       "      <td>-0.323395</td>\n",
       "      <td>-2.542620</td>\n",
       "      <td>-2.131350</td>\n",
       "      <td>-2.206168</td>\n",
       "      <td>1.114703</td>\n",
       "      <td>-1.327670</td>\n",
       "      <td>1.713601</td>\n",
       "      <td>-0.703049</td>\n",
       "      <td>-0.979277</td>\n",
       "    </tr>\n",
       "    <tr>\n",
       "      <th>57</th>\n",
       "      <td>-0.894808</td>\n",
       "      <td>-0.706490</td>\n",
       "      <td>-1.640771</td>\n",
       "      <td>-0.176217</td>\n",
       "      <td>-1.121500</td>\n",
       "      <td>0.340792</td>\n",
       "      <td>-0.265000</td>\n",
       "      <td>-1.755429</td>\n",
       "      <td>0.448411</td>\n",
       "    </tr>\n",
       "    <tr>\n",
       "      <th>89</th>\n",
       "      <td>-1.466220</td>\n",
       "      <td>-0.385387</td>\n",
       "      <td>-1.463734</td>\n",
       "      <td>0.229773</td>\n",
       "      <td>-0.802042</td>\n",
       "      <td>1.453101</td>\n",
       "      <td>-0.432348</td>\n",
       "      <td>-1.681787</td>\n",
       "      <td>0.694564</td>\n",
       "    </tr>\n",
       "    <tr>\n",
       "      <th>201</th>\n",
       "      <td>-0.894808</td>\n",
       "      <td>1.047904</td>\n",
       "      <td>1.918136</td>\n",
       "      <td>1.041754</td>\n",
       "      <td>-0.482585</td>\n",
       "      <td>-0.771516</td>\n",
       "      <td>-0.825901</td>\n",
       "      <td>0.976242</td>\n",
       "      <td>0.621789</td>\n",
       "    </tr>\n",
       "    <tr>\n",
       "      <th>230</th>\n",
       "      <td>-1.466220</td>\n",
       "      <td>0.846484</td>\n",
       "      <td>0.051795</td>\n",
       "      <td>1.041754</td>\n",
       "      <td>-1.440957</td>\n",
       "      <td>-0.215362</td>\n",
       "      <td>-0.465902</td>\n",
       "      <td>-0.671246</td>\n",
       "      <td>0.359796</td>\n",
       "    </tr>\n",
       "    <tr>\n",
       "      <th>221</th>\n",
       "      <td>-0.894808</td>\n",
       "      <td>1.728060</td>\n",
       "      <td>0.261444</td>\n",
       "      <td>1.447744</td>\n",
       "      <td>-1.121500</td>\n",
       "      <td>-0.771516</td>\n",
       "      <td>-1.169513</td>\n",
       "      <td>-0.964793</td>\n",
       "      <td>0.949279</td>\n",
       "    </tr>\n",
       "    <tr>\n",
       "      <th>170</th>\n",
       "      <td>0.248017</td>\n",
       "      <td>0.607116</td>\n",
       "      <td>0.438481</td>\n",
       "      <td>-0.988198</td>\n",
       "      <td>-1.440957</td>\n",
       "      <td>1.453101</td>\n",
       "      <td>-1.044058</td>\n",
       "      <td>-0.102719</td>\n",
       "      <td>-0.670938</td>\n",
       "    </tr>\n",
       "    <tr>\n",
       "      <th>19</th>\n",
       "      <td>-0.894808</td>\n",
       "      <td>0.379424</td>\n",
       "      <td>1.388889</td>\n",
       "      <td>-0.176217</td>\n",
       "      <td>1.114703</td>\n",
       "      <td>0.896947</td>\n",
       "      <td>0.297262</td>\n",
       "      <td>1.153910</td>\n",
       "      <td>-0.770047</td>\n",
       "    </tr>\n",
       "    <tr>\n",
       "      <th>163</th>\n",
       "      <td>0.819430</td>\n",
       "      <td>-0.017577</td>\n",
       "      <td>-1.039777</td>\n",
       "      <td>-0.582207</td>\n",
       "      <td>-1.121500</td>\n",
       "      <td>0.896947</td>\n",
       "      <td>0.879763</td>\n",
       "      <td>-1.339193</td>\n",
       "      <td>-1.094714</td>\n",
       "    </tr>\n",
       "    <tr>\n",
       "      <th>224</th>\n",
       "      <td>-1.466220</td>\n",
       "      <td>-1.106411</td>\n",
       "      <td>-1.345399</td>\n",
       "      <td>-0.988198</td>\n",
       "      <td>-0.482585</td>\n",
       "      <td>-0.215362</td>\n",
       "      <td>0.061690</td>\n",
       "      <td>-0.932691</td>\n",
       "      <td>-0.299279</td>\n",
       "    </tr>\n",
       "    <tr>\n",
       "      <th>94</th>\n",
       "      <td>0.819430</td>\n",
       "      <td>1.293111</td>\n",
       "      <td>0.135188</td>\n",
       "      <td>1.447744</td>\n",
       "      <td>1.753618</td>\n",
       "      <td>0.896947</td>\n",
       "      <td>-1.068602</td>\n",
       "      <td>-0.854179</td>\n",
       "      <td>1.113025</td>\n",
       "    </tr>\n",
       "    <tr>\n",
       "      <th>161</th>\n",
       "      <td>1.390843</td>\n",
       "      <td>-0.280298</td>\n",
       "      <td>0.852188</td>\n",
       "      <td>1.041754</td>\n",
       "      <td>-0.802042</td>\n",
       "      <td>0.896947</td>\n",
       "      <td>0.272947</td>\n",
       "      <td>1.383789</td>\n",
       "      <td>0.621789</td>\n",
       "    </tr>\n",
       "    <tr>\n",
       "      <th>169</th>\n",
       "      <td>1.390843</td>\n",
       "      <td>-1.553037</td>\n",
       "      <td>-1.020676</td>\n",
       "      <td>1.447744</td>\n",
       "      <td>1.753618</td>\n",
       "      <td>1.453101</td>\n",
       "      <td>1.163235</td>\n",
       "      <td>0.388890</td>\n",
       "      <td>2.220714</td>\n",
       "    </tr>\n",
       "    <tr>\n",
       "      <th>91</th>\n",
       "      <td>0.248017</td>\n",
       "      <td>-0.058445</td>\n",
       "      <td>0.723137</td>\n",
       "      <td>1.447744</td>\n",
       "      <td>1.753618</td>\n",
       "      <td>-1.327670</td>\n",
       "      <td>-0.873673</td>\n",
       "      <td>0.906523</td>\n",
       "      <td>2.220714</td>\n",
       "    </tr>\n",
       "    <tr>\n",
       "      <th>114</th>\n",
       "      <td>0.819430</td>\n",
       "      <td>-0.461284</td>\n",
       "      <td>-0.103811</td>\n",
       "      <td>1.041754</td>\n",
       "      <td>1.753618</td>\n",
       "      <td>0.896947</td>\n",
       "      <td>0.840584</td>\n",
       "      <td>0.307666</td>\n",
       "      <td>0.359796</td>\n",
       "    </tr>\n",
       "    <tr>\n",
       "      <th>225</th>\n",
       "      <td>0.248017</td>\n",
       "      <td>-0.000062</td>\n",
       "      <td>0.777180</td>\n",
       "      <td>-1.394188</td>\n",
       "      <td>-0.163127</td>\n",
       "      <td>0.340792</td>\n",
       "      <td>-1.213041</td>\n",
       "      <td>0.900160</td>\n",
       "      <td>-0.644509</td>\n",
       "    </tr>\n",
       "    <tr>\n",
       "      <th>39</th>\n",
       "      <td>-0.323395</td>\n",
       "      <td>-1.412919</td>\n",
       "      <td>-1.116649</td>\n",
       "      <td>0.635764</td>\n",
       "      <td>0.156330</td>\n",
       "      <td>-0.771516</td>\n",
       "      <td>1.850115</td>\n",
       "      <td>-0.076301</td>\n",
       "      <td>0.575004</td>\n",
       "    </tr>\n",
       "    <tr>\n",
       "      <th>135</th>\n",
       "      <td>0.248017</td>\n",
       "      <td>-0.321166</td>\n",
       "      <td>-0.421080</td>\n",
       "      <td>-1.800178</td>\n",
       "      <td>-0.802042</td>\n",
       "      <td>-0.215362</td>\n",
       "      <td>-1.147070</td>\n",
       "      <td>-0.292826</td>\n",
       "      <td>-1.039057</td>\n",
       "    </tr>\n",
       "    <tr>\n",
       "      <th>193</th>\n",
       "      <td>-0.894808</td>\n",
       "      <td>0.431968</td>\n",
       "      <td>-0.679181</td>\n",
       "      <td>-1.394188</td>\n",
       "      <td>0.475788</td>\n",
       "      <td>1.453101</td>\n",
       "      <td>-0.147573</td>\n",
       "      <td>-1.182375</td>\n",
       "      <td>-1.447952</td>\n",
       "    </tr>\n",
       "    <tr>\n",
       "      <th>206</th>\n",
       "      <td>0.248017</td>\n",
       "      <td>-0.747358</td>\n",
       "      <td>0.033625</td>\n",
       "      <td>-0.176217</td>\n",
       "      <td>-0.163127</td>\n",
       "      <td>-1.327670</td>\n",
       "      <td>-1.162342</td>\n",
       "      <td>0.920506</td>\n",
       "      <td>1.740715</td>\n",
       "    </tr>\n",
       "    <tr>\n",
       "      <th>190</th>\n",
       "      <td>1.390843</td>\n",
       "      <td>0.096269</td>\n",
       "      <td>0.330395</td>\n",
       "      <td>0.229773</td>\n",
       "      <td>-0.802042</td>\n",
       "      <td>-1.327670</td>\n",
       "      <td>0.884439</td>\n",
       "      <td>0.244597</td>\n",
       "      <td>-0.644509</td>\n",
       "    </tr>\n",
       "    <tr>\n",
       "      <th>84</th>\n",
       "      <td>0.819430</td>\n",
       "      <td>0.496189</td>\n",
       "      <td>-0.597651</td>\n",
       "      <td>1.447744</td>\n",
       "      <td>1.434160</td>\n",
       "      <td>-0.771516</td>\n",
       "      <td>0.057144</td>\n",
       "      <td>-1.130434</td>\n",
       "      <td>0.415591</td>\n",
       "    </tr>\n",
       "    <tr>\n",
       "      <th>79</th>\n",
       "      <td>1.390843</td>\n",
       "      <td>-0.683137</td>\n",
       "      <td>-0.488168</td>\n",
       "      <td>0.635764</td>\n",
       "      <td>-0.163127</td>\n",
       "      <td>-1.327670</td>\n",
       "      <td>-0.291923</td>\n",
       "      <td>0.012736</td>\n",
       "      <td>1.334563</td>\n",
       "    </tr>\n",
       "    <tr>\n",
       "      <th>30</th>\n",
       "      <td>1.390843</td>\n",
       "      <td>1.120882</td>\n",
       "      <td>0.488330</td>\n",
       "      <td>1.447744</td>\n",
       "      <td>1.114703</td>\n",
       "      <td>1.453101</td>\n",
       "      <td>-0.756208</td>\n",
       "      <td>-0.428303</td>\n",
       "      <td>0.799180</td>\n",
       "    </tr>\n",
       "    <tr>\n",
       "      <th>37</th>\n",
       "      <td>0.819430</td>\n",
       "      <td>-1.360375</td>\n",
       "      <td>-1.646362</td>\n",
       "      <td>0.635764</td>\n",
       "      <td>1.114703</td>\n",
       "      <td>-1.327670</td>\n",
       "      <td>1.470888</td>\n",
       "      <td>-1.247691</td>\n",
       "      <td>0.736410</td>\n",
       "    </tr>\n",
       "    <tr>\n",
       "      <th>35</th>\n",
       "      <td>0.819430</td>\n",
       "      <td>-0.151857</td>\n",
       "      <td>0.049465</td>\n",
       "      <td>0.229773</td>\n",
       "      <td>1.434160</td>\n",
       "      <td>-0.771516</td>\n",
       "      <td>0.282557</td>\n",
       "      <td>0.156396</td>\n",
       "      <td>-0.142356</td>\n",
       "    </tr>\n",
       "    <tr>\n",
       "      <th>120</th>\n",
       "      <td>-1.466220</td>\n",
       "      <td>1.249324</td>\n",
       "      <td>1.375378</td>\n",
       "      <td>0.229773</td>\n",
       "      <td>1.753618</td>\n",
       "      <td>-0.215362</td>\n",
       "      <td>-0.287544</td>\n",
       "      <td>0.295287</td>\n",
       "      <td>-0.575246</td>\n",
       "    </tr>\n",
       "    <tr>\n",
       "      <th>196</th>\n",
       "      <td>-0.323395</td>\n",
       "      <td>-0.000062</td>\n",
       "      <td>0.665367</td>\n",
       "      <td>1.447744</td>\n",
       "      <td>0.475788</td>\n",
       "      <td>0.896947</td>\n",
       "      <td>-0.621388</td>\n",
       "      <td>0.761707</td>\n",
       "      <td>1.707679</td>\n",
       "    </tr>\n",
       "    <tr>\n",
       "      <th>219</th>\n",
       "      <td>0.819430</td>\n",
       "      <td>-1.710670</td>\n",
       "      <td>-1.528492</td>\n",
       "      <td>-2.206168</td>\n",
       "      <td>0.795245</td>\n",
       "      <td>1.453101</td>\n",
       "      <td>-0.185935</td>\n",
       "      <td>-0.518267</td>\n",
       "      <td>-1.283612</td>\n",
       "    </tr>\n",
       "  </tbody>\n",
       "</table>\n",
       "</div>"
      ],
      "text/plain": [
       "     trustLevel  scannedLineItemsPerSecond  totalScanTimeInSeconds  \\\n",
       "192    0.819430                   1.322302                0.645334   \n",
       "70    -1.466220                   0.665499                0.085804   \n",
       "47    -0.894808                  -0.837851               -1.463268   \n",
       "133    0.819430                  -1.068462               -0.644240   \n",
       "43    -0.323395                  -1.696074               -1.224734   \n",
       "185   -0.894808                   1.360250               -0.302745   \n",
       "99     0.819430                   0.213034                0.030830   \n",
       "226   -0.894808                   0.834808               -0.839446   \n",
       "146   -1.466220                  -0.980888               -0.749530   \n",
       "222    1.390843                  -0.904991               -1.211224   \n",
       "11    -1.466220                   0.872756                0.130530   \n",
       "82     0.819430                   0.440726                0.728262   \n",
       "118   -0.323395                  -1.777810               -0.821277   \n",
       "93    -0.323395                   0.081673               -1.226598   \n",
       "200   -0.894808                  -0.613078                0.310828   \n",
       "101    0.819430                  -1.071381               -0.241714   \n",
       "197   -0.894808                   0.227630               -0.811027   \n",
       "145   -0.323395                   0.443645                0.419379   \n",
       "25    -0.323395                  -2.542620               -2.131350   \n",
       "57    -0.894808                  -0.706490               -1.640771   \n",
       "89    -1.466220                  -0.385387               -1.463734   \n",
       "201   -0.894808                   1.047904                1.918136   \n",
       "230   -1.466220                   0.846484                0.051795   \n",
       "221   -0.894808                   1.728060                0.261444   \n",
       "170    0.248017                   0.607116                0.438481   \n",
       "19    -0.894808                   0.379424                1.388889   \n",
       "163    0.819430                  -0.017577               -1.039777   \n",
       "224   -1.466220                  -1.106411               -1.345399   \n",
       "94     0.819430                   1.293111                0.135188   \n",
       "161    1.390843                  -0.280298                0.852188   \n",
       "169    1.390843                  -1.553037               -1.020676   \n",
       "91     0.248017                  -0.058445                0.723137   \n",
       "114    0.819430                  -0.461284               -0.103811   \n",
       "225    0.248017                  -0.000062                0.777180   \n",
       "39    -0.323395                  -1.412919               -1.116649   \n",
       "135    0.248017                  -0.321166               -0.421080   \n",
       "193   -0.894808                   0.431968               -0.679181   \n",
       "206    0.248017                  -0.747358                0.033625   \n",
       "190    1.390843                   0.096269                0.330395   \n",
       "84     0.819430                   0.496189               -0.597651   \n",
       "79     1.390843                  -0.683137               -0.488168   \n",
       "30     1.390843                   1.120882                0.488330   \n",
       "37     0.819430                  -1.360375               -1.646362   \n",
       "35     0.819430                  -0.151857                0.049465   \n",
       "120   -1.466220                   1.249324                1.375378   \n",
       "196   -0.323395                  -0.000062                0.665367   \n",
       "219    0.819430                  -1.710670               -1.528492   \n",
       "\n",
       "     quantityModifications  scansWithoutRegistration  lineItemVoids  \\\n",
       "192               1.041754                 -0.163127       0.896947   \n",
       "70               -1.394188                 -1.121500      -0.771516   \n",
       "47                0.635764                 -0.802042      -0.771516   \n",
       "133              -0.988198                  1.114703      -1.327670   \n",
       "43               -0.582207                  1.753618       0.896947   \n",
       "185               1.041754                  0.475788      -0.215362   \n",
       "99                0.635764                  0.156330       0.340792   \n",
       "226              -0.582207                  1.434160      -0.771516   \n",
       "146               1.041754                 -0.802042      -0.215362   \n",
       "222               1.041754                  0.795245       0.340792   \n",
       "11                0.635764                 -1.440957       1.453101   \n",
       "82               -0.988198                 -1.121500       0.896947   \n",
       "118               0.229773                 -1.440957       1.453101   \n",
       "93                0.635764                 -1.121500       0.896947   \n",
       "200              -0.988198                 -1.121500       1.453101   \n",
       "101               1.041754                  0.156330       0.340792   \n",
       "197              -1.394188                  0.475788      -0.771516   \n",
       "145               1.041754                 -1.121500      -0.215362   \n",
       "25               -2.206168                  1.114703      -1.327670   \n",
       "57               -0.176217                 -1.121500       0.340792   \n",
       "89                0.229773                 -0.802042       1.453101   \n",
       "201               1.041754                 -0.482585      -0.771516   \n",
       "230               1.041754                 -1.440957      -0.215362   \n",
       "221               1.447744                 -1.121500      -0.771516   \n",
       "170              -0.988198                 -1.440957       1.453101   \n",
       "19               -0.176217                  1.114703       0.896947   \n",
       "163              -0.582207                 -1.121500       0.896947   \n",
       "224              -0.988198                 -0.482585      -0.215362   \n",
       "94                1.447744                  1.753618       0.896947   \n",
       "161               1.041754                 -0.802042       0.896947   \n",
       "169               1.447744                  1.753618       1.453101   \n",
       "91                1.447744                  1.753618      -1.327670   \n",
       "114               1.041754                  1.753618       0.896947   \n",
       "225              -1.394188                 -0.163127       0.340792   \n",
       "39                0.635764                  0.156330      -0.771516   \n",
       "135              -1.800178                 -0.802042      -0.215362   \n",
       "193              -1.394188                  0.475788       1.453101   \n",
       "206              -0.176217                 -0.163127      -1.327670   \n",
       "190               0.229773                 -0.802042      -1.327670   \n",
       "84                1.447744                  1.434160      -0.771516   \n",
       "79                0.635764                 -0.163127      -1.327670   \n",
       "30                1.447744                  1.114703       1.453101   \n",
       "37                0.635764                  1.114703      -1.327670   \n",
       "35                0.229773                  1.434160      -0.771516   \n",
       "120               0.229773                  1.753618      -0.215362   \n",
       "196               1.447744                  0.475788       0.896947   \n",
       "219              -2.206168                  0.795245       1.453101   \n",
       "\n",
       "     grandTotal  valuePerSecond  lineItemVoidsPerPosition  \n",
       "192   -0.762850       -0.413887                  0.359796  \n",
       "70    -1.078095       -0.515443                 -1.067374  \n",
       "47     0.482633       -1.381316                  0.736410  \n",
       "133   -0.638940        0.288691                  0.243915  \n",
       "43     1.249692        0.201518                  0.171489  \n",
       "185   -0.783993       -1.278129                  0.359796  \n",
       "99     0.746100       -0.221422                 -0.393432  \n",
       "226   -0.457782       -1.551334                 -0.845370  \n",
       "146    2.575587       -0.025753                 -0.055778  \n",
       "222   -0.417900       -0.903724                  2.368406  \n",
       "11    -1.191466       -0.610183                  0.914807  \n",
       "82    -0.286073        0.356932                 -1.083892  \n",
       "118    1.174218        1.416755                  1.364101  \n",
       "93    -0.831270       -1.623352                  1.113025  \n",
       "200   -0.189910        1.132557                 -0.560817  \n",
       "101   -0.205290        1.018079                  2.368406  \n",
       "197   -0.518922       -1.211648                 -1.218397  \n",
       "145   -1.205239        0.015435                  1.777638  \n",
       "25     1.713601       -0.703049                 -0.979277  \n",
       "57    -0.265000       -1.755429                  0.448411  \n",
       "89    -0.432348       -1.681787                  0.694564  \n",
       "201   -0.825901        0.976242                  0.621789  \n",
       "230   -0.465902       -0.671246                  0.359796  \n",
       "221   -1.169513       -0.964793                  0.949279  \n",
       "170   -1.044058       -0.102719                 -0.670938  \n",
       "19     0.297262        1.153910                 -0.770047  \n",
       "163    0.879763       -1.339193                 -1.094714  \n",
       "224    0.061690       -0.932691                 -0.299279  \n",
       "94    -1.068602       -0.854179                  1.113025  \n",
       "161    0.272947        1.383789                  0.621789  \n",
       "169    1.163235        0.388890                  2.220714  \n",
       "91    -0.873673        0.906523                  2.220714  \n",
       "114    0.840584        0.307666                  0.359796  \n",
       "225   -1.213041        0.900160                 -0.644509  \n",
       "39     1.850115       -0.076301                  0.575004  \n",
       "135   -1.147070       -0.292826                 -1.039057  \n",
       "193   -0.147573       -1.182375                 -1.447952  \n",
       "206   -1.162342        0.920506                  1.740715  \n",
       "190    0.884439        0.244597                 -0.644509  \n",
       "84     0.057144       -1.130434                  0.415591  \n",
       "79    -0.291923        0.012736                  1.334563  \n",
       "30    -0.756208       -0.428303                  0.799180  \n",
       "37     1.470888       -1.247691                  0.736410  \n",
       "35     0.282557        0.156396                 -0.142356  \n",
       "120   -0.287544        0.295287                 -0.575246  \n",
       "196   -0.621388        0.761707                  1.707679  \n",
       "219   -0.185935       -0.518267                 -1.283612  "
      ]
     },
     "execution_count": 61,
     "metadata": {},
     "output_type": "execute_result"
    }
   ],
   "source": [
    "X_test"
   ]
  },
  {
   "cell_type": "code",
   "execution_count": 62,
   "metadata": {},
   "outputs": [
    {
     "data": {
      "text/plain": [
       "(47, 9)"
      ]
     },
     "execution_count": 62,
     "metadata": {},
     "output_type": "execute_result"
    }
   ],
   "source": [
    "X_test.shape"
   ]
  },
  {
   "cell_type": "code",
   "execution_count": 63,
   "metadata": {},
   "outputs": [
    {
     "data": {
      "text/plain": [
       "614     0\n",
       "394     0\n",
       "303     0\n",
       "88      0\n",
       "1443    0\n",
       "       ..\n",
       "1455    0\n",
       "1506    0\n",
       "150     0\n",
       "408     0\n",
       "820     0\n",
       "Name: fraud, Length: 188, dtype: int64"
      ]
     },
     "execution_count": 63,
     "metadata": {},
     "output_type": "execute_result"
    }
   ],
   "source": [
    "y_train"
   ]
  },
  {
   "cell_type": "code",
   "execution_count": 64,
   "metadata": {},
   "outputs": [
    {
     "data": {
      "text/plain": [
       "(188,)"
      ]
     },
     "execution_count": 64,
     "metadata": {},
     "output_type": "execute_result"
    }
   ],
   "source": [
    "y_train.shape"
   ]
  },
  {
   "cell_type": "code",
   "execution_count": 65,
   "metadata": {},
   "outputs": [
    {
     "data": {
      "text/plain": [
       "1568    0\n",
       "441     0\n",
       "296     0\n",
       "1031    0\n",
       "268     0\n",
       "1466    1\n",
       "692     0\n",
       "1811    1\n",
       "1137    1\n",
       "1797    0\n",
       "56      0\n",
       "531     0\n",
       "855     0\n",
       "655     0\n",
       "1603    0\n",
       "700     0\n",
       "1579    0\n",
       "1129    0\n",
       "137     0\n",
       "351     0\n",
       "604     0\n",
       "1608    0\n",
       "1838    1\n",
       "1793    0\n",
       "1345    0\n",
       "97      1\n",
       "1268    0\n",
       "1802    0\n",
       "656     0\n",
       "1266    0\n",
       "1343    0\n",
       "644     0\n",
       "840     0\n",
       "1804    0\n",
       "231     0\n",
       "1040    0\n",
       "1569    0\n",
       "1656    0\n",
       "1550    0\n",
       "554     0\n",
       "503     0\n",
       "187     0\n",
       "229     0\n",
       "222     0\n",
       "882     1\n",
       "1578    0\n",
       "1784    0\n",
       "Name: fraud, dtype: int64"
      ]
     },
     "execution_count": 65,
     "metadata": {},
     "output_type": "execute_result"
    }
   ],
   "source": [
    "y_test"
   ]
  },
  {
   "cell_type": "code",
   "execution_count": 66,
   "metadata": {},
   "outputs": [
    {
     "data": {
      "text/plain": [
       "(47,)"
      ]
     },
     "execution_count": 66,
     "metadata": {},
     "output_type": "execute_result"
    }
   ],
   "source": [
    "y_test.shape"
   ]
  },
  {
   "cell_type": "code",
   "execution_count": 67,
   "metadata": {},
   "outputs": [
    {
     "name": "stdout",
     "output_type": "stream",
     "text": [
      "[[ 0.80165587  0.06645385 -1.16752793 ... -0.99780616 -1.52557989\n",
      "   0.99385721]\n",
      " [-0.33151183  0.00812834  0.02060579 ...  0.19229874 -0.05125087\n",
      "  -0.79434851]\n",
      " [-0.33151183 -0.39723391 -1.52544399 ...  0.8301976  -1.73437023\n",
      "   0.62540823]\n",
      " ...\n",
      " [ 0.80165587 -1.13505153 -0.77225208 ...  2.60015973  0.15719968\n",
      "   0.39105462]\n",
      " [-0.89809567  0.71678321  0.2512218  ... -1.01368593 -0.38629002\n",
      "  -1.10454746]\n",
      " [ 1.36823972  0.01396089 -0.37144144 ...  0.61669281 -0.53216443\n",
      "   0.39105462]]\n",
      "[[ 0.80165587  1.28545687  0.5708556   1.10543744 -0.14973492  0.92604823\n",
      "  -0.77433647 -0.46336     0.44644729]\n",
      " [-1.46467952  0.62929496  0.01691593 -1.38842943 -1.13171741 -0.73729954\n",
      "  -1.08454427 -0.56322068 -1.02291615]\n",
      " [-0.89809567 -0.87258677 -1.51668058  0.68979297 -0.80438991 -0.73729954\n",
      "   0.45124516 -1.41464586  0.83419598]\n",
      " [ 0.80165587 -1.10297251 -0.70583467 -0.97278495  1.15957507 -1.2917488\n",
      "  -0.65240592  0.22749441  0.32714001]\n",
      " [-0.33151183 -1.72997167 -1.28052978 -0.55714047  1.81423006  0.92604823\n",
      "   1.20604782  0.14177696  0.25257295]\n",
      " [-0.89809567  1.32336845 -0.36775159  1.10543744  0.50492007 -0.18285029\n",
      "  -0.79514159 -1.31318009  0.44644729]\n",
      " [ 0.80165587  0.1772723  -0.03750945  0.68979297  0.17759258  0.37159897\n",
      "   0.71050282 -0.2741059  -0.32905008]\n",
      " [-0.89809567  0.79843892 -0.89909089 -0.55714047  1.48690257 -0.73729954\n",
      "  -0.47414267 -1.58182669 -0.79434851]\n",
      " [-1.46467952 -1.01548425 -0.81007311  1.10543744 -0.80438991 -0.18285029\n",
      "   2.51075653 -0.0817026   0.01858667]\n",
      " [ 1.36823972 -0.93966109 -1.26715405  1.10543744  0.83224757  0.37159897\n",
      "  -0.43489792 -0.94502317  2.5144403 ]\n",
      " [-1.46467952  0.8363505   0.06119421  0.68979297 -1.45904491  1.48049749\n",
      "  -1.19610379 -0.65637983  1.01786641]\n",
      " [ 0.80165587  0.40474177  0.6529549  -0.97278495 -1.13171741  0.92604823\n",
      "  -0.30517717  0.29459749 -1.03992268]\n",
      " [-0.33151183 -1.81162738 -0.88110284  0.27414849 -1.45904491  1.48049749\n",
      "   1.13178015  1.33673536  1.48044379]\n",
      " [-0.33151183  0.04603992 -1.28237471  0.68979297 -1.13171741  0.92604823\n",
      "  -0.84166269 -1.65264289  1.22194467]\n",
      " [-0.89809567 -0.64803358  0.239691   -0.97278495 -1.13171741  1.48049749\n",
      "  -0.21055077  1.05727989 -0.50138283]\n",
      " [ 0.80165587 -1.10588878 -0.30733019  1.10543744  0.17759258  0.37159897\n",
      "  -0.225685    0.94471219  2.5144403 ]\n",
      " [-0.89809567  0.19185368 -0.87095573 -1.38842943  0.50492007 -0.73729954\n",
      "  -0.53430636 -1.24780911 -1.17840435]\n",
      " [-0.33151183  0.40765804  0.34715807  1.10543744 -1.13171741 -0.18285029\n",
      "  -1.2096561  -0.04120175  1.90620706]\n",
      " [-0.33151183 -2.57569148 -2.17808731 -2.21971839  1.15957507 -1.2917488\n",
      "   1.6625437  -0.74769635 -0.93221471]\n",
      " [-0.89809567 -0.74135438 -1.69240998 -0.14149599 -1.13171741  0.37159897\n",
      "  -0.2844416  -1.78251573  0.53768228]\n",
      " [-1.46467952 -0.42056411 -1.51714181  0.27414849 -0.80438991  1.48049749\n",
      "  -0.44911501 -1.71010316  0.79111279]\n",
      " [-0.89809567  1.01132701  1.83094152  1.10543744 -0.47706242 -0.73729954\n",
      "  -0.83638026  0.90357271  0.71618551]\n",
      " [-1.46467952  0.81010402 -0.01675401  1.10543744 -1.45904491 -0.18285029\n",
      "  -0.48213295 -0.71642447  0.44644729]\n",
      " [-0.89809567  1.69081913  0.19080041  1.52108192 -1.13171741 -0.73729954\n",
      "  -1.17450091 -1.00507324  1.05335828]\n",
      " [ 0.23507202  0.57096945  0.36606858 -0.97278495 -1.45904491  1.48049749\n",
      "  -1.05105131 -0.15738401 -0.61475964]\n",
      " [-0.89809567  0.34349999  1.30698193 -0.14149599  1.15957507  0.92604823\n",
      "   0.26883676  1.07827641 -0.71679877]\n",
      " [ 0.80165587 -0.05311344 -1.09742066 -0.55714047 -1.13171741  0.92604823\n",
      "   0.84202942 -1.37322533 -1.05106488]\n",
      " [-1.46467952 -1.14088408 -1.39998888 -0.97278495 -0.47706242 -0.18285029\n",
      "   0.03702849 -0.9735068  -0.23211291]\n",
      " [ 0.80165587  1.25629412  0.06580653  1.52108192  1.81423006  0.92604823\n",
      "  -1.07520237 -0.89630451  1.22194467]\n",
      " [ 1.36823972 -0.3155782   0.77564262  1.10543744 -0.80438991  0.92604823\n",
      "   0.24490999  1.30431962  0.71618551]\n",
      " [ 1.36823972 -1.58707419 -1.07851015  1.52108192  1.81423006  1.48049749\n",
      "   1.12097202  0.32602152  2.36238199]\n",
      " [ 0.23507202 -0.09394129  0.64788135  1.52108192  1.81423006 -1.2917488\n",
      "  -0.88338822  0.83501794  2.36238199]\n",
      " [ 0.80165587 -0.49638727 -0.17080551  1.10543744  1.81423006  0.92604823\n",
      "   0.80347722  0.24615327  0.44644729]\n",
      " [ 0.23507202 -0.03561579  0.70138427 -1.38842943 -0.14973492  0.37159897\n",
      "  -1.21733394  0.82876085 -0.58754921]\n",
      " [-0.33151183 -1.44709298 -1.17352395  0.68979297  0.17759258 -0.73729954\n",
      "   1.79687653 -0.13140623  0.66801797]\n",
      " [ 0.23507202 -0.35640606 -0.48490452 -1.80407391 -0.80438991 -0.18285029\n",
      "  -1.15241731 -0.34431892 -0.99376212]\n",
      " [-0.89809567  0.39599294 -0.74042707 -1.38842943  0.50492007  1.48049749\n",
      "  -0.16889041 -1.21902464 -1.41474641]\n",
      " [ 0.23507202 -0.78218223 -0.03474206 -0.14149599 -0.14973492 -1.2917488\n",
      "  -1.16744468  0.84876754  1.86819248]\n",
      " [ 1.36823972  0.06062129  0.25906275  0.27414849 -0.80438991 -1.2917488\n",
      "   0.84663148  0.1841367  -0.58754921]\n",
      " [ 0.80165587  0.460151   -0.65971146  1.52108192  1.48690257 -0.73729954\n",
      "   0.03255576 -1.16795     0.50389154]\n",
      " [ 1.36823972 -0.71802418 -0.55132193  0.68979297 -0.14973492 -1.2917488\n",
      "  -0.31093376 -0.04385571  1.45003213]\n",
      " [ 1.36823972  1.08423389  0.41542041  1.52108192  1.15957507  1.48049749\n",
      "  -0.76780033 -0.47753473  0.89882076]\n",
      " [ 0.80165587 -1.39460002 -1.69794477  0.68979297  1.15957507 -1.2917488\n",
      "   1.42370949 -1.28325025  0.83419598]\n",
      " [ 0.80165587 -0.1872621  -0.01906017  0.27414849  1.48690257 -0.73729954\n",
      "   0.25436633  0.09740707 -0.07055096]\n",
      " [-1.46467952  1.21254999  1.2936062   0.27414849  1.81423006 -0.18285029\n",
      "  -0.30662542  0.23398127 -0.5162391 ]\n",
      " [-0.33151183 -0.03561579  0.59068858  1.52108192  0.50492007  0.92604823\n",
      "  -0.63513424  0.69261759  1.83417944]\n",
      " [ 0.80165587 -1.74455305 -1.58125306 -2.21971839  0.83224757  1.48049749\n",
      "  -0.20663921 -0.56599775 -1.24554698]]\n"
     ]
    }
   ],
   "source": [
    "from sklearn.preprocessing import StandardScaler\n",
    "scaler = StandardScaler()\n",
    "scaler.fit(X_train)\n",
    "\n",
    "X_train = scaler.transform(X_train)\n",
    "X_test = scaler.transform(X_test)\n",
    "print(X_train)\n",
    "print(X_test)\n",
    "\n"
   ]
  },
  {
   "cell_type": "code",
   "execution_count": 68,
   "metadata": {},
   "outputs": [
    {
     "data": {
      "text/plain": [
       "array([0, 0, 0, 0, 0, 0, 0, 0, 1, 0, 0, 0, 0, 0, 0, 0, 0, 0, 0, 0, 1, 1,\n",
       "       1, 1, 0, 0, 0, 0, 0, 0, 0, 0, 0, 0, 0, 0, 0, 0, 0, 0, 0, 0, 0, 0,\n",
       "       1, 0, 0], dtype=int64)"
      ]
     },
     "execution_count": 68,
     "metadata": {},
     "output_type": "execute_result"
    }
   ],
   "source": [
    "from sklearn.tree import DecisionTreeClassifier\n",
    "decision_tree = DecisionTreeClassifier()\n",
    "decision_tree.fit(X_train, y_train)\n",
    "y_pred = decision_tree.predict(X_test)\n",
    "y_pred"
   ]
  },
  {
   "cell_type": "code",
   "execution_count": 69,
   "metadata": {},
   "outputs": [
    {
     "name": "stdout",
     "output_type": "stream",
     "text": [
      "[[38  3]\n",
      " [ 3  3]]\n",
      "              precision    recall  f1-score   support\n",
      "\n",
      "           0       0.93      0.93      0.93        41\n",
      "           1       0.50      0.50      0.50         6\n",
      "\n",
      "    accuracy                           0.87        47\n",
      "   macro avg       0.71      0.71      0.71        47\n",
      "weighted avg       0.87      0.87      0.87        47\n",
      "\n",
      "Accuracy: 0.8723404255319149\n"
     ]
    }
   ],
   "source": [
    "from sklearn.metrics import classification_report, confusion_matrix\n",
    "from sklearn.metrics import accuracy_score\n",
    "from sklearn import metrics\n",
    "print(confusion_matrix(y_test, y_pred))\n",
    "print(classification_report(y_test, y_pred))\n",
    "print(\"Accuracy:\",metrics.accuracy_score(y_test, y_pred))"
   ]
  },
  {
   "cell_type": "code",
   "execution_count": 70,
   "metadata": {},
   "outputs": [
    {
     "data": {
      "text/plain": [
       "array([0, 0, 0, ..., 0, 1, 0], dtype=int64)"
      ]
     },
     "execution_count": 70,
     "metadata": {},
     "output_type": "execute_result"
    }
   ],
   "source": [
    "X_train = data_train.iloc[:, :-1].values\n",
    "X_test = data_test.iloc[:, :-1].values\n",
    "y_train = data_train.iloc[:, 9].values\n",
    "y_test = data_test.iloc[:, 9].values\n",
    "\n",
    "X_train = scaler.transform(X_train)\n",
    "X_test = scaler.transform(X_test)\n",
    "\n",
    "classifier = DecisionTreeClassifier()\n",
    "classifier.fit(X_train, y_train)\n",
    "y_pred = classifier.predict(X_test)\n",
    "y_pred"
   ]
  },
  {
   "cell_type": "code",
   "execution_count": 71,
   "metadata": {},
   "outputs": [],
   "source": [
    "data_test['fraud'] = y_pred\n",
    "data_test.to_csv('HasilPrediksiDT.csv')"
   ]
  },
  {
   "cell_type": "code",
   "execution_count": 72,
   "metadata": {},
   "outputs": [
    {
     "data": {
      "text/html": [
       "<div>\n",
       "<style scoped>\n",
       "    .dataframe tbody tr th:only-of-type {\n",
       "        vertical-align: middle;\n",
       "    }\n",
       "\n",
       "    .dataframe tbody tr th {\n",
       "        vertical-align: top;\n",
       "    }\n",
       "\n",
       "    .dataframe thead th {\n",
       "        text-align: right;\n",
       "    }\n",
       "</style>\n",
       "<table border=\"1\" class=\"dataframe\">\n",
       "  <thead>\n",
       "    <tr style=\"text-align: right;\">\n",
       "      <th></th>\n",
       "      <th>trustLevel</th>\n",
       "      <th>totalScanTimeInSeconds</th>\n",
       "      <th>grandTotal</th>\n",
       "      <th>lineItemVoids</th>\n",
       "      <th>scansWithoutRegistration</th>\n",
       "      <th>quantityModifications</th>\n",
       "      <th>scannedLineItemsPerSecond</th>\n",
       "      <th>valuePerSecond</th>\n",
       "      <th>lineItemVoidsPerPosition</th>\n",
       "      <th>fraud</th>\n",
       "    </tr>\n",
       "  </thead>\n",
       "  <tbody>\n",
       "    <tr>\n",
       "      <th>0</th>\n",
       "      <td>4</td>\n",
       "      <td>467</td>\n",
       "      <td>88.48</td>\n",
       "      <td>4</td>\n",
       "      <td>8</td>\n",
       "      <td>4</td>\n",
       "      <td>0.014989</td>\n",
       "      <td>0.189465</td>\n",
       "      <td>0.571429</td>\n",
       "      <td>0</td>\n",
       "    </tr>\n",
       "    <tr>\n",
       "      <th>1</th>\n",
       "      <td>3</td>\n",
       "      <td>1004</td>\n",
       "      <td>58.99</td>\n",
       "      <td>7</td>\n",
       "      <td>6</td>\n",
       "      <td>1</td>\n",
       "      <td>0.026892</td>\n",
       "      <td>0.058755</td>\n",
       "      <td>0.259259</td>\n",
       "      <td>0</td>\n",
       "    </tr>\n",
       "    <tr>\n",
       "      <th>2</th>\n",
       "      <td>1</td>\n",
       "      <td>162</td>\n",
       "      <td>14.00</td>\n",
       "      <td>4</td>\n",
       "      <td>5</td>\n",
       "      <td>4</td>\n",
       "      <td>0.006173</td>\n",
       "      <td>0.086420</td>\n",
       "      <td>4.000000</td>\n",
       "      <td>0</td>\n",
       "    </tr>\n",
       "    <tr>\n",
       "      <th>3</th>\n",
       "      <td>5</td>\n",
       "      <td>532</td>\n",
       "      <td>84.79</td>\n",
       "      <td>9</td>\n",
       "      <td>3</td>\n",
       "      <td>4</td>\n",
       "      <td>0.026316</td>\n",
       "      <td>0.159380</td>\n",
       "      <td>0.642857</td>\n",
       "      <td>0</td>\n",
       "    </tr>\n",
       "    <tr>\n",
       "      <th>4</th>\n",
       "      <td>5</td>\n",
       "      <td>890</td>\n",
       "      <td>42.16</td>\n",
       "      <td>4</td>\n",
       "      <td>0</td>\n",
       "      <td>0</td>\n",
       "      <td>0.021348</td>\n",
       "      <td>0.047371</td>\n",
       "      <td>0.210526</td>\n",
       "      <td>0</td>\n",
       "    </tr>\n",
       "    <tr>\n",
       "      <th>...</th>\n",
       "      <td>...</td>\n",
       "      <td>...</td>\n",
       "      <td>...</td>\n",
       "      <td>...</td>\n",
       "      <td>...</td>\n",
       "      <td>...</td>\n",
       "      <td>...</td>\n",
       "      <td>...</td>\n",
       "      <td>...</td>\n",
       "      <td>...</td>\n",
       "    </tr>\n",
       "    <tr>\n",
       "      <th>498116</th>\n",
       "      <td>4</td>\n",
       "      <td>783</td>\n",
       "      <td>59.10</td>\n",
       "      <td>2</td>\n",
       "      <td>2</td>\n",
       "      <td>0</td>\n",
       "      <td>0.012771</td>\n",
       "      <td>0.075479</td>\n",
       "      <td>0.200000</td>\n",
       "      <td>0</td>\n",
       "    </tr>\n",
       "    <tr>\n",
       "      <th>498117</th>\n",
       "      <td>1</td>\n",
       "      <td>278</td>\n",
       "      <td>98.90</td>\n",
       "      <td>9</td>\n",
       "      <td>5</td>\n",
       "      <td>4</td>\n",
       "      <td>0.050360</td>\n",
       "      <td>0.355755</td>\n",
       "      <td>0.642857</td>\n",
       "      <td>1</td>\n",
       "    </tr>\n",
       "    <tr>\n",
       "      <th>498118</th>\n",
       "      <td>3</td>\n",
       "      <td>300</td>\n",
       "      <td>5.41</td>\n",
       "      <td>6</td>\n",
       "      <td>6</td>\n",
       "      <td>4</td>\n",
       "      <td>0.030000</td>\n",
       "      <td>0.018033</td>\n",
       "      <td>0.666667</td>\n",
       "      <td>0</td>\n",
       "    </tr>\n",
       "    <tr>\n",
       "      <th>498119</th>\n",
       "      <td>2</td>\n",
       "      <td>1524</td>\n",
       "      <td>33.97</td>\n",
       "      <td>2</td>\n",
       "      <td>5</td>\n",
       "      <td>3</td>\n",
       "      <td>0.005906</td>\n",
       "      <td>0.022290</td>\n",
       "      <td>0.222222</td>\n",
       "      <td>1</td>\n",
       "    </tr>\n",
       "    <tr>\n",
       "      <th>498120</th>\n",
       "      <td>3</td>\n",
       "      <td>1456</td>\n",
       "      <td>56.97</td>\n",
       "      <td>11</td>\n",
       "      <td>7</td>\n",
       "      <td>2</td>\n",
       "      <td>0.019231</td>\n",
       "      <td>0.039128</td>\n",
       "      <td>0.392857</td>\n",
       "      <td>0</td>\n",
       "    </tr>\n",
       "  </tbody>\n",
       "</table>\n",
       "<p>498121 rows × 10 columns</p>\n",
       "</div>"
      ],
      "text/plain": [
       "        trustLevel  totalScanTimeInSeconds  grandTotal  lineItemVoids  \\\n",
       "0                4                     467       88.48              4   \n",
       "1                3                    1004       58.99              7   \n",
       "2                1                     162       14.00              4   \n",
       "3                5                     532       84.79              9   \n",
       "4                5                     890       42.16              4   \n",
       "...            ...                     ...         ...            ...   \n",
       "498116           4                     783       59.10              2   \n",
       "498117           1                     278       98.90              9   \n",
       "498118           3                     300        5.41              6   \n",
       "498119           2                    1524       33.97              2   \n",
       "498120           3                    1456       56.97             11   \n",
       "\n",
       "        scansWithoutRegistration  quantityModifications  \\\n",
       "0                              8                      4   \n",
       "1                              6                      1   \n",
       "2                              5                      4   \n",
       "3                              3                      4   \n",
       "4                              0                      0   \n",
       "...                          ...                    ...   \n",
       "498116                         2                      0   \n",
       "498117                         5                      4   \n",
       "498118                         6                      4   \n",
       "498119                         5                      3   \n",
       "498120                         7                      2   \n",
       "\n",
       "        scannedLineItemsPerSecond  valuePerSecond  lineItemVoidsPerPosition  \\\n",
       "0                        0.014989        0.189465                  0.571429   \n",
       "1                        0.026892        0.058755                  0.259259   \n",
       "2                        0.006173        0.086420                  4.000000   \n",
       "3                        0.026316        0.159380                  0.642857   \n",
       "4                        0.021348        0.047371                  0.210526   \n",
       "...                           ...             ...                       ...   \n",
       "498116                   0.012771        0.075479                  0.200000   \n",
       "498117                   0.050360        0.355755                  0.642857   \n",
       "498118                   0.030000        0.018033                  0.666667   \n",
       "498119                   0.005906        0.022290                  0.222222   \n",
       "498120                   0.019231        0.039128                  0.392857   \n",
       "\n",
       "        fraud  \n",
       "0           0  \n",
       "1           0  \n",
       "2           0  \n",
       "3           0  \n",
       "4           0  \n",
       "...       ...  \n",
       "498116      0  \n",
       "498117      1  \n",
       "498118      0  \n",
       "498119      1  \n",
       "498120      0  \n",
       "\n",
       "[498121 rows x 10 columns]"
      ]
     },
     "execution_count": 72,
     "metadata": {},
     "output_type": "execute_result"
    }
   ],
   "source": [
    "data_hasil_from_csv = pd.read_csv('HasilPrediksiDT.csv')\n",
    "data_hasil_from_csv.drop(columns=['Unnamed: 0'])"
   ]
  },
  {
   "cell_type": "code",
   "execution_count": 73,
   "metadata": {},
   "outputs": [
    {
     "name": "stdout",
     "output_type": "stream",
     "text": [
      "0    427233\n",
      "1     70888\n",
      "Name: fraud, dtype: int64\n"
     ]
    },
    {
     "data": {
      "image/png": "[encoded data removed]",
      "text/plain": [
       "<Figure size 432x288 with 1 Axes>"
      ]
     },
     "metadata": {
      "needs_background": "light"
     },
     "output_type": "display_data"
    }
   ],
   "source": [
    "## checking the balance of the data by plotting the count of outcomes by their value\n",
    "color_wheel = {1: \"#0392cf\", \n",
    "               2: \"#7bc043\"}\n",
    "colors = data_hasil_from_csv[\"fraud\"].map(lambda x: color_wheel.get(x + 1))\n",
    "print(data_hasil_from_csv.fraud.value_counts())\n",
    "p=data_hasil_from_csv.fraud.value_counts().plot(kind=\"bar\")"
   ]
  }
 ],
 "metadata": {
  "kernelspec": {
   "display_name": "Python 3",
   "language": "python",
   "name": "python3"
  },
  "language_info": {
   "codemirror_mode": {
    "name": "ipython",
    "version": 3
   },
   "file_extension": ".py",
   "mimetype": "text/x-python",
   "name": "python",
   "nbconvert_exporter": "python",
   "pygments_lexer": "ipython3",
   "version": "3.7.6"
  }
 },
 "nbformat": 4,
 "nbformat_minor": 4
}
